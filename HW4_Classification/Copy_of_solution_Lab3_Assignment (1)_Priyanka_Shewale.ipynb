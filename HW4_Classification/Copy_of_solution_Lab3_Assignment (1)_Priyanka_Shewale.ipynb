{
  "nbformat": 4,
  "nbformat_minor": 0,
  "metadata": {
    "kernelspec": {
      "display_name": "Python 3.7.1 64-bit",
      "language": "python",
      "name": "python37164bit20e5165f44ad46e58d41bd8d050de6f3"
    },
    "language_info": {
      "codemirror_mode": {
        "name": "ipython",
        "version": 3
      },
      "file_extension": ".py",
      "mimetype": "text/x-python",
      "name": "python",
      "nbconvert_exporter": "python",
      "pygments_lexer": "ipython3",
      "version": "3.7.1"
    },
    "toc": {
      "base_numbering": 1,
      "nav_menu": {},
      "number_sections": true,
      "sideBar": true,
      "skip_h1_title": false,
      "title_cell": "Table of Contents",
      "title_sidebar": "Contents",
      "toc_cell": false,
      "toc_position": {},
      "toc_section_display": true,
      "toc_window_display": false
    },
    "colab": {
      "name": "Lab3_Assignment.ipynb",
      "provenance": [],
      "collapsed_sections": []
    }
  },
  "cells": [
    {
      "cell_type": "code",
      "metadata": {
        "id": "BMIyAysmFbUY"
      },
      "source": [
        "import warnings\n",
        "warnings.filterwarnings('ignore')"
      ],
      "execution_count": 29,
      "outputs": []
    },
    {
      "cell_type": "code",
      "source": [
        "pip install --upgrade xlrd"
      ],
      "metadata": {
        "colab": {
          "base_uri": "https://localhost:8080/",
          "height": 277
        },
        "id": "L9sZVWKZOMEP",
        "outputId": "cd60e7be-a66f-4b56-ea65-e7523e6d5524"
      },
      "execution_count": 4,
      "outputs": [
        {
          "output_type": "stream",
          "name": "stdout",
          "text": [
            "Requirement already satisfied: xlrd in /usr/local/lib/python3.7/dist-packages (1.1.0)\n",
            "Collecting xlrd\n",
            "  Downloading xlrd-2.0.1-py2.py3-none-any.whl (96 kB)\n",
            "\u001b[K     |████████████████████████████████| 96 kB 2.9 MB/s \n",
            "\u001b[?25hInstalling collected packages: xlrd\n",
            "  Attempting uninstall: xlrd\n",
            "    Found existing installation: xlrd 1.1.0\n",
            "    Uninstalling xlrd-1.1.0:\n",
            "      Successfully uninstalled xlrd-1.1.0\n",
            "Successfully installed xlrd-2.0.1\n"
          ]
        },
        {
          "output_type": "display_data",
          "data": {
            "application/vnd.colab-display-data+json": {
              "pip_warning": {
                "packages": [
                  "xlrd"
                ]
              }
            }
          },
          "metadata": {}
        }
      ]
    },
    {
      "cell_type": "markdown",
      "metadata": {
        "id": "NkfbaSrgvIGp"
      },
      "source": [
        "# Lab 3 Assignment\n",
        "- In the exercises, you will still use the same dataset after One-Hot Encoding\n",
        "- The dependent variable is \"default payment next month\""
      ]
    },
    {
      "cell_type": "markdown",
      "metadata": {
        "id": "VMmEK_0DFbUZ"
      },
      "source": [
        "__Name:__ Priyanka Manoj Shewale"
      ]
    },
    {
      "cell_type": "markdown",
      "metadata": {
        "id": "5F5xfOT9vIGt"
      },
      "source": [
        "## Starting point - Import and Split dataset\n",
        "- Split the dataset into training and testing set, with a ratio of 80:20"
      ]
    },
    {
      "cell_type": "code",
      "metadata": {
        "id": "A5eaRojtFbUa"
      },
      "source": [
        "import pandas as pd\n",
        "from sklearn.pipeline import Pipeline\n",
        "from sklearn.model_selection import GridSearchCV\n",
        "from sklearn import preprocessing\n",
        "from sklearn.linear_model import LogisticRegression\n",
        "from sklearn.decomposition import PCA\n",
        "import numpy as np\n",
        "from sklearn.metrics import roc_curve, auc, precision_recall_curve"
      ],
      "execution_count": 30,
      "outputs": []
    },
    {
      "cell_type": "code",
      "metadata": {
        "id": "0kuJbAcIFbUa",
        "colab": {
          "base_uri": "https://localhost:8080/",
          "height": 299
        },
        "outputId": "bf05d6c2-3499-450f-a2c4-51bd33806d0f"
      },
      "source": [
        "df = pd.read_excel('http://fengmai.net//download/courses/2020S-BIA652NT-Pub/Week10-Classification%20and%20Hyperparameter%20Search%20using%20Python/default%20of%20credit%20card%20clients.xls', header = 1).drop('ID', axis = 1)\n",
        "\n",
        "col = ['SEX', 'EDUCATION', 'MARRIAGE', 'PAY_0', 'PAY_2', 'PAY_3', 'PAY_4', 'PAY_5', 'PAY_6']\n",
        "df2 = pd.get_dummies(df, columns = col, drop_first=True)\n",
        "df2.head()"
      ],
      "execution_count": 31,
      "outputs": [
        {
          "output_type": "execute_result",
          "data": {
            "text/plain": [
              "   LIMIT_BAL  AGE  BILL_AMT1  BILL_AMT2  BILL_AMT3  BILL_AMT4  BILL_AMT5  \\\n",
              "0      20000   24       3913       3102        689          0          0   \n",
              "1     120000   26       2682       1725       2682       3272       3455   \n",
              "2      90000   34      29239      14027      13559      14331      14948   \n",
              "3      50000   37      46990      48233      49291      28314      28959   \n",
              "4      50000   57       8617       5670      35835      20940      19146   \n",
              "\n",
              "   BILL_AMT6  PAY_AMT1  PAY_AMT2  ...  PAY_5_8  PAY_6_-1  PAY_6_0  PAY_6_2  \\\n",
              "0          0         0       689  ...        0         0        0        0   \n",
              "1       3261         0      1000  ...        0         0        0        1   \n",
              "2      15549      1518      1500  ...        0         0        1        0   \n",
              "3      29547      2000      2019  ...        0         0        1        0   \n",
              "4      19131      2000     36681  ...        0         0        1        0   \n",
              "\n",
              "   PAY_6_3  PAY_6_4  PAY_6_5  PAY_6_6  PAY_6_7  PAY_6_8  \n",
              "0        0        0        0        0        0        0  \n",
              "1        0        0        0        0        0        0  \n",
              "2        0        0        0        0        0        0  \n",
              "3        0        0        0        0        0        0  \n",
              "4        0        0        0        0        0        0  \n",
              "\n",
              "[5 rows x 83 columns]"
            ],
            "text/html": [
              "\n",
              "  <div id=\"df-4debf1fc-328d-4b21-8cfb-86dea61124c7\">\n",
              "    <div class=\"colab-df-container\">\n",
              "      <div>\n",
              "<style scoped>\n",
              "    .dataframe tbody tr th:only-of-type {\n",
              "        vertical-align: middle;\n",
              "    }\n",
              "\n",
              "    .dataframe tbody tr th {\n",
              "        vertical-align: top;\n",
              "    }\n",
              "\n",
              "    .dataframe thead th {\n",
              "        text-align: right;\n",
              "    }\n",
              "</style>\n",
              "<table border=\"1\" class=\"dataframe\">\n",
              "  <thead>\n",
              "    <tr style=\"text-align: right;\">\n",
              "      <th></th>\n",
              "      <th>LIMIT_BAL</th>\n",
              "      <th>AGE</th>\n",
              "      <th>BILL_AMT1</th>\n",
              "      <th>BILL_AMT2</th>\n",
              "      <th>BILL_AMT3</th>\n",
              "      <th>BILL_AMT4</th>\n",
              "      <th>BILL_AMT5</th>\n",
              "      <th>BILL_AMT6</th>\n",
              "      <th>PAY_AMT1</th>\n",
              "      <th>PAY_AMT2</th>\n",
              "      <th>...</th>\n",
              "      <th>PAY_5_8</th>\n",
              "      <th>PAY_6_-1</th>\n",
              "      <th>PAY_6_0</th>\n",
              "      <th>PAY_6_2</th>\n",
              "      <th>PAY_6_3</th>\n",
              "      <th>PAY_6_4</th>\n",
              "      <th>PAY_6_5</th>\n",
              "      <th>PAY_6_6</th>\n",
              "      <th>PAY_6_7</th>\n",
              "      <th>PAY_6_8</th>\n",
              "    </tr>\n",
              "  </thead>\n",
              "  <tbody>\n",
              "    <tr>\n",
              "      <th>0</th>\n",
              "      <td>20000</td>\n",
              "      <td>24</td>\n",
              "      <td>3913</td>\n",
              "      <td>3102</td>\n",
              "      <td>689</td>\n",
              "      <td>0</td>\n",
              "      <td>0</td>\n",
              "      <td>0</td>\n",
              "      <td>0</td>\n",
              "      <td>689</td>\n",
              "      <td>...</td>\n",
              "      <td>0</td>\n",
              "      <td>0</td>\n",
              "      <td>0</td>\n",
              "      <td>0</td>\n",
              "      <td>0</td>\n",
              "      <td>0</td>\n",
              "      <td>0</td>\n",
              "      <td>0</td>\n",
              "      <td>0</td>\n",
              "      <td>0</td>\n",
              "    </tr>\n",
              "    <tr>\n",
              "      <th>1</th>\n",
              "      <td>120000</td>\n",
              "      <td>26</td>\n",
              "      <td>2682</td>\n",
              "      <td>1725</td>\n",
              "      <td>2682</td>\n",
              "      <td>3272</td>\n",
              "      <td>3455</td>\n",
              "      <td>3261</td>\n",
              "      <td>0</td>\n",
              "      <td>1000</td>\n",
              "      <td>...</td>\n",
              "      <td>0</td>\n",
              "      <td>0</td>\n",
              "      <td>0</td>\n",
              "      <td>1</td>\n",
              "      <td>0</td>\n",
              "      <td>0</td>\n",
              "      <td>0</td>\n",
              "      <td>0</td>\n",
              "      <td>0</td>\n",
              "      <td>0</td>\n",
              "    </tr>\n",
              "    <tr>\n",
              "      <th>2</th>\n",
              "      <td>90000</td>\n",
              "      <td>34</td>\n",
              "      <td>29239</td>\n",
              "      <td>14027</td>\n",
              "      <td>13559</td>\n",
              "      <td>14331</td>\n",
              "      <td>14948</td>\n",
              "      <td>15549</td>\n",
              "      <td>1518</td>\n",
              "      <td>1500</td>\n",
              "      <td>...</td>\n",
              "      <td>0</td>\n",
              "      <td>0</td>\n",
              "      <td>1</td>\n",
              "      <td>0</td>\n",
              "      <td>0</td>\n",
              "      <td>0</td>\n",
              "      <td>0</td>\n",
              "      <td>0</td>\n",
              "      <td>0</td>\n",
              "      <td>0</td>\n",
              "    </tr>\n",
              "    <tr>\n",
              "      <th>3</th>\n",
              "      <td>50000</td>\n",
              "      <td>37</td>\n",
              "      <td>46990</td>\n",
              "      <td>48233</td>\n",
              "      <td>49291</td>\n",
              "      <td>28314</td>\n",
              "      <td>28959</td>\n",
              "      <td>29547</td>\n",
              "      <td>2000</td>\n",
              "      <td>2019</td>\n",
              "      <td>...</td>\n",
              "      <td>0</td>\n",
              "      <td>0</td>\n",
              "      <td>1</td>\n",
              "      <td>0</td>\n",
              "      <td>0</td>\n",
              "      <td>0</td>\n",
              "      <td>0</td>\n",
              "      <td>0</td>\n",
              "      <td>0</td>\n",
              "      <td>0</td>\n",
              "    </tr>\n",
              "    <tr>\n",
              "      <th>4</th>\n",
              "      <td>50000</td>\n",
              "      <td>57</td>\n",
              "      <td>8617</td>\n",
              "      <td>5670</td>\n",
              "      <td>35835</td>\n",
              "      <td>20940</td>\n",
              "      <td>19146</td>\n",
              "      <td>19131</td>\n",
              "      <td>2000</td>\n",
              "      <td>36681</td>\n",
              "      <td>...</td>\n",
              "      <td>0</td>\n",
              "      <td>0</td>\n",
              "      <td>1</td>\n",
              "      <td>0</td>\n",
              "      <td>0</td>\n",
              "      <td>0</td>\n",
              "      <td>0</td>\n",
              "      <td>0</td>\n",
              "      <td>0</td>\n",
              "      <td>0</td>\n",
              "    </tr>\n",
              "  </tbody>\n",
              "</table>\n",
              "<p>5 rows × 83 columns</p>\n",
              "</div>\n",
              "      <button class=\"colab-df-convert\" onclick=\"convertToInteractive('df-4debf1fc-328d-4b21-8cfb-86dea61124c7')\"\n",
              "              title=\"Convert this dataframe to an interactive table.\"\n",
              "              style=\"display:none;\">\n",
              "        \n",
              "  <svg xmlns=\"http://www.w3.org/2000/svg\" height=\"24px\"viewBox=\"0 0 24 24\"\n",
              "       width=\"24px\">\n",
              "    <path d=\"M0 0h24v24H0V0z\" fill=\"none\"/>\n",
              "    <path d=\"M18.56 5.44l.94 2.06.94-2.06 2.06-.94-2.06-.94-.94-2.06-.94 2.06-2.06.94zm-11 1L8.5 8.5l.94-2.06 2.06-.94-2.06-.94L8.5 2.5l-.94 2.06-2.06.94zm10 10l.94 2.06.94-2.06 2.06-.94-2.06-.94-.94-2.06-.94 2.06-2.06.94z\"/><path d=\"M17.41 7.96l-1.37-1.37c-.4-.4-.92-.59-1.43-.59-.52 0-1.04.2-1.43.59L10.3 9.45l-7.72 7.72c-.78.78-.78 2.05 0 2.83L4 21.41c.39.39.9.59 1.41.59.51 0 1.02-.2 1.41-.59l7.78-7.78 2.81-2.81c.8-.78.8-2.07 0-2.86zM5.41 20L4 18.59l7.72-7.72 1.47 1.35L5.41 20z\"/>\n",
              "  </svg>\n",
              "      </button>\n",
              "      \n",
              "  <style>\n",
              "    .colab-df-container {\n",
              "      display:flex;\n",
              "      flex-wrap:wrap;\n",
              "      gap: 12px;\n",
              "    }\n",
              "\n",
              "    .colab-df-convert {\n",
              "      background-color: #E8F0FE;\n",
              "      border: none;\n",
              "      border-radius: 50%;\n",
              "      cursor: pointer;\n",
              "      display: none;\n",
              "      fill: #1967D2;\n",
              "      height: 32px;\n",
              "      padding: 0 0 0 0;\n",
              "      width: 32px;\n",
              "    }\n",
              "\n",
              "    .colab-df-convert:hover {\n",
              "      background-color: #E2EBFA;\n",
              "      box-shadow: 0px 1px 2px rgba(60, 64, 67, 0.3), 0px 1px 3px 1px rgba(60, 64, 67, 0.15);\n",
              "      fill: #174EA6;\n",
              "    }\n",
              "\n",
              "    [theme=dark] .colab-df-convert {\n",
              "      background-color: #3B4455;\n",
              "      fill: #D2E3FC;\n",
              "    }\n",
              "\n",
              "    [theme=dark] .colab-df-convert:hover {\n",
              "      background-color: #434B5C;\n",
              "      box-shadow: 0px 1px 3px 1px rgba(0, 0, 0, 0.15);\n",
              "      filter: drop-shadow(0px 1px 2px rgba(0, 0, 0, 0.3));\n",
              "      fill: #FFFFFF;\n",
              "    }\n",
              "  </style>\n",
              "\n",
              "      <script>\n",
              "        const buttonEl =\n",
              "          document.querySelector('#df-4debf1fc-328d-4b21-8cfb-86dea61124c7 button.colab-df-convert');\n",
              "        buttonEl.style.display =\n",
              "          google.colab.kernel.accessAllowed ? 'block' : 'none';\n",
              "\n",
              "        async function convertToInteractive(key) {\n",
              "          const element = document.querySelector('#df-4debf1fc-328d-4b21-8cfb-86dea61124c7');\n",
              "          const dataTable =\n",
              "            await google.colab.kernel.invokeFunction('convertToInteractive',\n",
              "                                                     [key], {});\n",
              "          if (!dataTable) return;\n",
              "\n",
              "          const docLinkHtml = 'Like what you see? Visit the ' +\n",
              "            '<a target=\"_blank\" href=https://colab.research.google.com/notebooks/data_table.ipynb>data table notebook</a>'\n",
              "            + ' to learn more about interactive tables.';\n",
              "          element.innerHTML = '';\n",
              "          dataTable['output_type'] = 'display_data';\n",
              "          await google.colab.output.renderOutput(dataTable, element);\n",
              "          const docLink = document.createElement('div');\n",
              "          docLink.innerHTML = docLinkHtml;\n",
              "          element.appendChild(docLink);\n",
              "        }\n",
              "      </script>\n",
              "    </div>\n",
              "  </div>\n",
              "  "
            ]
          },
          "metadata": {},
          "execution_count": 31
        }
      ]
    },
    {
      "cell_type": "code",
      "metadata": {
        "id": "TYCpRfZfvIGt"
      },
      "source": [
        "from sklearn.model_selection import train_test_split\n",
        "y = df2['default payment next month'].values.astype(float)\n",
        "x = df2.drop('default payment next month', axis = 1).values.astype(float)\n",
        "x_train, x_test, y_train, y_test = train_test_split(x, y, test_size = 0.2, random_state = 0)"
      ],
      "execution_count": 32,
      "outputs": []
    },
    {
      "cell_type": "markdown",
      "metadata": {
        "id": "VuvIaqQtvIG7"
      },
      "source": [
        "## Q1 - Grid-search both C and number of PCs \n",
        "\n",
        "Next, we use the gride search procedure to search for both the optimal C (inverse of L2 regularization parameter) and the number of principle components using cross validation on the train set.\n",
        "\n",
        "- Define a parameter grid such that pca__n_components is 10 to 30, and add C as a parameter that can take the following values: [1000, 100, 10, 1, 0.1, 0.01]. Hint: use `pipe.get_params().keys()` to get the right key for C. \n",
        "- Which C and PC combination is the best?"
      ]
    },
    {
      "cell_type": "code",
      "metadata": {
        "id": "s5w5IjVoFbUa"
      },
      "source": [
        "def report(results, n_top=3):\n",
        "    for i in range(1, n_top + 1):\n",
        "        candidates = np.flatnonzero(results['rank_test_score'] == i)\n",
        "        for candidate in candidates:\n",
        "            print(\"Model with rank: {0}\".format(i))\n",
        "            print(\"Mean validation score: {0:.3f} (std: {1:.3f})\".format(\n",
        "                  results['mean_test_score'][candidate],\n",
        "                  results['std_test_score'][candidate]))\n",
        "            print(\"Parameters: {0}\".format(results['params'][candidate]))\n",
        "            print(\"\")"
      ],
      "execution_count": 33,
      "outputs": []
    },
    {
      "cell_type": "code",
      "metadata": {
        "scrolled": true,
        "id": "LdGZI4GhFbUa",
        "colab": {
          "base_uri": "https://localhost:8080/"
        },
        "outputId": "17f859e0-f80b-4398-fc98-3557a8502aba"
      },
      "source": [
        "##### YOUR CODE HERE ######\n",
        "# build a pipeline which executes three steps in a row\n",
        "pipeline = Pipeline(\n",
        "     steps=[\n",
        "    ('standardization', preprocessing.StandardScaler()),\n",
        "    ('pca', PCA()),    \n",
        "    ('lg', LogisticRegression(C=0.01, solver = 'lbfgs', max_iter = 1000))\n",
        "])\n",
        "pipeline.get_params().keys()"
      ],
      "execution_count": 34,
      "outputs": [
        {
          "output_type": "execute_result",
          "data": {
            "text/plain": [
              "dict_keys(['memory', 'steps', 'verbose', 'standardization', 'pca', 'lg', 'standardization__copy', 'standardization__with_mean', 'standardization__with_std', 'pca__copy', 'pca__iterated_power', 'pca__n_components', 'pca__random_state', 'pca__svd_solver', 'pca__tol', 'pca__whiten', 'lg__C', 'lg__class_weight', 'lg__dual', 'lg__fit_intercept', 'lg__intercept_scaling', 'lg__l1_ratio', 'lg__max_iter', 'lg__multi_class', 'lg__n_jobs', 'lg__penalty', 'lg__random_state', 'lg__solver', 'lg__tol', 'lg__verbose', 'lg__warm_start'])"
            ]
          },
          "metadata": {},
          "execution_count": 34
        }
      ]
    },
    {
      "cell_type": "code",
      "source": [
        "param_grid = {'pca__n_components': range(10, 31),'lg__C':[1000,100,10,1,0.1,0.01]}\n",
        "grid = GridSearchCV(pipeline, cv = 3, param_grid = param_grid, scoring = 'roc_auc', refit=True, verbose=1)\n",
        "grid_fit = grid.fit(x_train, y_train)"
      ],
      "metadata": {
        "colab": {
          "base_uri": "https://localhost:8080/"
        },
        "id": "I9tK0ne1Owai",
        "outputId": "1dfe76ae-96ac-42c6-f26d-f1eed55bf06a"
      },
      "execution_count": 35,
      "outputs": [
        {
          "output_type": "stream",
          "name": "stdout",
          "text": [
            "Fitting 3 folds for each of 126 candidates, totalling 378 fits\n"
          ]
        }
      ]
    },
    {
      "cell_type": "code",
      "source": [
        "grid.best_estimator_"
      ],
      "metadata": {
        "colab": {
          "base_uri": "https://localhost:8080/"
        },
        "id": "ESV5x1whP9hW",
        "outputId": "74833c28-1735-4f14-ae50-0dc654bde1f5"
      },
      "execution_count": 36,
      "outputs": [
        {
          "output_type": "execute_result",
          "data": {
            "text/plain": [
              "Pipeline(steps=[('standardization', StandardScaler()),\n",
              "                ('pca', PCA(n_components=30)),\n",
              "                ('lg', LogisticRegression(C=1, max_iter=1000))])"
            ]
          },
          "metadata": {},
          "execution_count": 36
        }
      ]
    },
    {
      "cell_type": "code",
      "metadata": {
        "scrolled": true,
        "id": "2iAPfjn9FbUa",
        "colab": {
          "base_uri": "https://localhost:8080/"
        },
        "outputId": "b8475101-6f70-4eb9-e5fc-890ac8839ec0"
      },
      "source": [
        "report(grid.cv_results_)"
      ],
      "execution_count": 37,
      "outputs": [
        {
          "output_type": "stream",
          "name": "stdout",
          "text": [
            "Model with rank: 1\n",
            "Mean validation score: 0.764 (std: 0.006)\n",
            "Parameters: {'lg__C': 1, 'pca__n_components': 30}\n",
            "\n",
            "Model with rank: 2\n",
            "Mean validation score: 0.764 (std: 0.006)\n",
            "Parameters: {'lg__C': 10, 'pca__n_components': 30}\n",
            "\n",
            "Model with rank: 3\n",
            "Mean validation score: 0.764 (std: 0.006)\n",
            "Parameters: {'lg__C': 0.1, 'pca__n_components': 29}\n",
            "\n"
          ]
        }
      ]
    },
    {
      "cell_type": "markdown",
      "source": [
        "NOte :  The best C & PC value is C =1000 & PC_n_components = 30"
      ],
      "metadata": {
        "id": "6VkXcsi3QlZK"
      }
    },
    {
      "cell_type": "markdown",
      "metadata": {
        "id": "yGfPB8geFbUb"
      },
      "source": [
        "## Q2 - Provide AUC in the test set\n",
        "- Based on Q1, use the best chosen model to provide AUC for the test set"
      ]
    },
    {
      "cell_type": "code",
      "metadata": {
        "id": "-wlnhmWCFbUb",
        "colab": {
          "base_uri": "https://localhost:8080/"
        },
        "outputId": "ca36f004-6205-4e99-9ed2-773dadd43dc4"
      },
      "source": [
        "#### YOUR CODE HERE ####\n",
        "y_test"
      ],
      "execution_count": 38,
      "outputs": [
        {
          "output_type": "execute_result",
          "data": {
            "text/plain": [
              "array([0., 0., 0., ..., 1., 0., 0.])"
            ]
          },
          "metadata": {},
          "execution_count": 38
        }
      ]
    },
    {
      "cell_type": "code",
      "source": [
        "scaler = preprocessing.StandardScaler().fit(x_train)\n",
        "x_train_s = scaler.transform(x_train)\n",
        "x_test_s = scaler.transform(x_test)"
      ],
      "metadata": {
        "id": "qKblc5ygQ8e7"
      },
      "execution_count": 39,
      "outputs": []
    },
    {
      "cell_type": "code",
      "source": [
        "pca = PCA(n_components = 30)\n",
        "pca.fit(x_train_s)"
      ],
      "metadata": {
        "colab": {
          "base_uri": "https://localhost:8080/"
        },
        "id": "sc5tWPKRQ_fJ",
        "outputId": "8155bf6f-cceb-49b4-9d21-8a02012fd612"
      },
      "execution_count": 40,
      "outputs": [
        {
          "output_type": "execute_result",
          "data": {
            "text/plain": [
              "PCA(n_components=30)"
            ]
          },
          "metadata": {},
          "execution_count": 40
        }
      ]
    },
    {
      "cell_type": "code",
      "source": [
        "x_train_pca = pca.transform(x_train_s)\n",
        "x_test_pca = pca.transform(x_test_s)"
      ],
      "metadata": {
        "id": "VJz7-jPqRE4n"
      },
      "execution_count": 41,
      "outputs": []
    },
    {
      "cell_type": "code",
      "source": [
        "mod1 = LogisticRegression(C=1000, solver = 'lbfgs', max_iter = 1000)\n",
        "mod1.fit(x_train_pca, y_train)"
      ],
      "metadata": {
        "colab": {
          "base_uri": "https://localhost:8080/"
        },
        "id": "IzBy2sjqRGnU",
        "outputId": "7e709f6b-2faf-4f07-a07e-a96e1215a3d7"
      },
      "execution_count": 42,
      "outputs": [
        {
          "output_type": "execute_result",
          "data": {
            "text/plain": [
              "LogisticRegression(C=1000, max_iter=1000)"
            ]
          },
          "metadata": {},
          "execution_count": 42
        }
      ]
    },
    {
      "cell_type": "code",
      "source": [
        "y_predict_test = lg.predict(x_test_pca)\n",
        "#y_predict_test = lg.predict(x_test_s)"
      ],
      "metadata": {
        "id": "MIHYsOgmRQmd"
      },
      "execution_count": 43,
      "outputs": []
    },
    {
      "cell_type": "code",
      "source": [
        "#predict_prob = lg.predict_proba(x_test_s)\n",
        "predict_prob = lg.predict_proba(x_test_pca)\n",
        "predict_prob"
      ],
      "metadata": {
        "colab": {
          "base_uri": "https://localhost:8080/"
        },
        "id": "lzjZbrIXRUzM",
        "outputId": "6137a32f-653e-47c7-beaa-b255cd8540ed"
      },
      "execution_count": 44,
      "outputs": [
        {
          "output_type": "execute_result",
          "data": {
            "text/plain": [
              "array([[0.38914686, 0.61085314],\n",
              "       [0.77571315, 0.22428685],\n",
              "       [0.84969475, 0.15030525],\n",
              "       ...,\n",
              "       [0.8767248 , 0.1232752 ],\n",
              "       [0.15808756, 0.84191244],\n",
              "       [0.96406932, 0.03593068]])"
            ]
          },
          "metadata": {},
          "execution_count": 44
        }
      ]
    },
    {
      "cell_type": "code",
      "source": [
        "fpr, tpr, thresholds = roc_curve(y_test, predict_prob[:, 1])\n",
        "print('AUC: {:.2f}'.format(auc(fpr, tpr)))"
      ],
      "metadata": {
        "colab": {
          "base_uri": "https://localhost:8080/"
        },
        "id": "z8QfV1WeRXcs",
        "outputId": "3f829c4d-27f1-4729-d54c-3257a3bd571e"
      },
      "execution_count": 45,
      "outputs": [
        {
          "output_type": "stream",
          "name": "stdout",
          "text": [
            "AUC: 0.76\n"
          ]
        }
      ]
    },
    {
      "cell_type": "markdown",
      "source": [
        "AUC is 0.76 with the best chosen model parameters"
      ],
      "metadata": {
        "id": "z0xL_kQ6Rdfu"
      }
    },
    {
      "cell_type": "markdown",
      "metadata": {
        "id": "2nitlGWZFbUb"
      },
      "source": [
        "## Q3 - Confusion matrix, precision, recall, F-1\n",
        "- When decision threshold is 0.4:\n",
        "    - Provide Confusion matrix, precision, recall, F-1 for the test set"
      ]
    },
    {
      "cell_type": "code",
      "source": [
        "from sklearn.metrics import confusion_matrix, classification_report\n",
        "print('classifier accuracy is {:.2f}'.format(lg.score(x_test_pca, y_test)))\n",
        "\n",
        "cm = confusion_matrix(y_test, y_pred=y_predict_test)\n",
        "print('confusion matrix is :\\n', cm)"
      ],
      "metadata": {
        "colab": {
          "base_uri": "https://localhost:8080/"
        },
        "id": "Ewsu7H6YRlve",
        "outputId": "5ce85534-4c5b-4ce6-b22e-d4c29c4594b1"
      },
      "execution_count": 46,
      "outputs": [
        {
          "output_type": "stream",
          "name": "stdout",
          "text": [
            "classifier accuracy is 0.81\n",
            "confusion matrix is :\n",
            " [[4523  180]\n",
            " [ 937  360]]\n"
          ]
        }
      ]
    },
    {
      "cell_type": "code",
      "source": [
        "print('classification report:\\n', classification_report(y_test, y_predict_test))"
      ],
      "metadata": {
        "colab": {
          "base_uri": "https://localhost:8080/"
        },
        "id": "aa25iCnhRmTA",
        "outputId": "dba0ff2d-e29c-4030-8f30-a097b3400dcb"
      },
      "execution_count": 47,
      "outputs": [
        {
          "output_type": "stream",
          "name": "stdout",
          "text": [
            "classification report:\n",
            "               precision    recall  f1-score   support\n",
            "\n",
            "         0.0       0.83      0.96      0.89      4703\n",
            "         1.0       0.67      0.28      0.39      1297\n",
            "\n",
            "    accuracy                           0.81      6000\n",
            "   macro avg       0.75      0.62      0.64      6000\n",
            "weighted avg       0.79      0.81      0.78      6000\n",
            "\n"
          ]
        }
      ]
    },
    {
      "cell_type": "markdown",
      "metadata": {
        "id": "UYJ0aK77FbUb"
      },
      "source": [
        "## Q4 - Optimal decision threshold"
      ]
    },
    {
      "cell_type": "markdown",
      "metadata": {
        "id": "cJ1UvXRTFbUb"
      },
      "source": [
        "If the average cost of a false positive prediction is 1, and the cost of a false negative prediction is 2.5, what is the optimal decision threshold that can minimize cost in the test set given your predicted_prob? Provide answer up to 2 decimal places. "
      ]
    },
    {
      "cell_type": "code",
      "metadata": {
        "id": "8Ar8gH10FbUb",
        "colab": {
          "base_uri": "https://localhost:8080/"
        },
        "outputId": "3d615040-c487-420e-f93a-623904c18d90"
      },
      "source": [
        "dt_cost = []\n",
        "out =[]\n",
        "for i in np.arange(0.0, 1.0, 0.01):\n",
        "    print(f\"decision threshold: {i:.2f}\")\n",
        "    #### YOUR CODE HERE ####\n",
        "    out.append(i)\n",
        "    predict_prob_given=(predict_prob[:,1]>= i).astype(int)\n",
        "    cm_new=confusion_matrix(y_test,predict_prob_given)\n",
        "    fn_new=cm_new[1][0]\n",
        "    fp_new=cm_new[0][1]\n",
        "    scores=2*fn_new+fp_new\n",
        "    dt_cost.append(scores)\n",
        "min_pos=dt_cost.index(min(dt_cost))   \n",
        "min_pos"
      ],
      "execution_count": 48,
      "outputs": [
        {
          "output_type": "stream",
          "name": "stdout",
          "text": [
            "decision threshold: 0.00\n",
            "decision threshold: 0.01\n",
            "decision threshold: 0.02\n",
            "decision threshold: 0.03\n",
            "decision threshold: 0.04\n",
            "decision threshold: 0.05\n",
            "decision threshold: 0.06\n",
            "decision threshold: 0.07\n",
            "decision threshold: 0.08\n",
            "decision threshold: 0.09\n",
            "decision threshold: 0.10\n",
            "decision threshold: 0.11\n",
            "decision threshold: 0.12\n",
            "decision threshold: 0.13\n",
            "decision threshold: 0.14\n",
            "decision threshold: 0.15\n",
            "decision threshold: 0.16\n",
            "decision threshold: 0.17\n",
            "decision threshold: 0.18\n",
            "decision threshold: 0.19\n",
            "decision threshold: 0.20\n",
            "decision threshold: 0.21\n",
            "decision threshold: 0.22\n",
            "decision threshold: 0.23\n",
            "decision threshold: 0.24\n",
            "decision threshold: 0.25\n",
            "decision threshold: 0.26\n",
            "decision threshold: 0.27\n",
            "decision threshold: 0.28\n",
            "decision threshold: 0.29\n",
            "decision threshold: 0.30\n",
            "decision threshold: 0.31\n",
            "decision threshold: 0.32\n",
            "decision threshold: 0.33\n",
            "decision threshold: 0.34\n",
            "decision threshold: 0.35\n",
            "decision threshold: 0.36\n",
            "decision threshold: 0.37\n",
            "decision threshold: 0.38\n",
            "decision threshold: 0.39\n",
            "decision threshold: 0.40\n",
            "decision threshold: 0.41\n",
            "decision threshold: 0.42\n",
            "decision threshold: 0.43\n",
            "decision threshold: 0.44\n",
            "decision threshold: 0.45\n",
            "decision threshold: 0.46\n",
            "decision threshold: 0.47\n",
            "decision threshold: 0.48\n",
            "decision threshold: 0.49\n",
            "decision threshold: 0.50\n",
            "decision threshold: 0.51\n",
            "decision threshold: 0.52\n",
            "decision threshold: 0.53\n",
            "decision threshold: 0.54\n",
            "decision threshold: 0.55\n",
            "decision threshold: 0.56\n",
            "decision threshold: 0.57\n",
            "decision threshold: 0.58\n",
            "decision threshold: 0.59\n",
            "decision threshold: 0.60\n",
            "decision threshold: 0.61\n",
            "decision threshold: 0.62\n",
            "decision threshold: 0.63\n",
            "decision threshold: 0.64\n",
            "decision threshold: 0.65\n",
            "decision threshold: 0.66\n",
            "decision threshold: 0.67\n",
            "decision threshold: 0.68\n",
            "decision threshold: 0.69\n",
            "decision threshold: 0.70\n",
            "decision threshold: 0.71\n",
            "decision threshold: 0.72\n",
            "decision threshold: 0.73\n",
            "decision threshold: 0.74\n",
            "decision threshold: 0.75\n",
            "decision threshold: 0.76\n",
            "decision threshold: 0.77\n",
            "decision threshold: 0.78\n",
            "decision threshold: 0.79\n",
            "decision threshold: 0.80\n",
            "decision threshold: 0.81\n",
            "decision threshold: 0.82\n",
            "decision threshold: 0.83\n",
            "decision threshold: 0.84\n",
            "decision threshold: 0.85\n",
            "decision threshold: 0.86\n",
            "decision threshold: 0.87\n",
            "decision threshold: 0.88\n",
            "decision threshold: 0.89\n",
            "decision threshold: 0.90\n",
            "decision threshold: 0.91\n",
            "decision threshold: 0.92\n",
            "decision threshold: 0.93\n",
            "decision threshold: 0.94\n",
            "decision threshold: 0.95\n",
            "decision threshold: 0.96\n",
            "decision threshold: 0.97\n",
            "decision threshold: 0.98\n",
            "decision threshold: 0.99\n"
          ]
        },
        {
          "output_type": "execute_result",
          "data": {
            "text/plain": [
              "29"
            ]
          },
          "metadata": {},
          "execution_count": 48
        }
      ]
    },
    {
      "cell_type": "code",
      "source": [
        "out[min_pos]"
      ],
      "metadata": {
        "colab": {
          "base_uri": "https://localhost:8080/"
        },
        "id": "jRdgfsPBSFcT",
        "outputId": "dd7d145a-1835-467d-c670-a623f7ca68dc"
      },
      "execution_count": 49,
      "outputs": [
        {
          "output_type": "execute_result",
          "data": {
            "text/plain": [
              "0.29"
            ]
          },
          "metadata": {},
          "execution_count": 49
        }
      ]
    },
    {
      "cell_type": "code",
      "source": [
        "dt_cost[min_pos]"
      ],
      "metadata": {
        "colab": {
          "base_uri": "https://localhost:8080/"
        },
        "id": "sbUp2TH-SKid",
        "outputId": "6cccfe23-e80a-4e2c-b4c5-7cce0793384e"
      },
      "execution_count": 50,
      "outputs": [
        {
          "output_type": "execute_result",
          "data": {
            "text/plain": [
              "1802"
            ]
          },
          "metadata": {},
          "execution_count": 50
        }
      ]
    },
    {
      "cell_type": "markdown",
      "source": [
        "Note : The optimal decision threshold is 0.28 with the cost as 1803"
      ],
      "metadata": {
        "id": "A494idYXSSRI"
      }
    },
    {
      "cell_type": "code",
      "source": [
        "tn, fp, fn, tp = cm.ravel()\n",
        "print(f'tn: {tn}, fp: {fp}, fn: {fn}, tp: {tp}')"
      ],
      "metadata": {
        "colab": {
          "base_uri": "https://localhost:8080/"
        },
        "id": "ea6RsfcGSOcs",
        "outputId": "13daae82-1555-4edf-9ac0-18c190096d7f"
      },
      "execution_count": 51,
      "outputs": [
        {
          "output_type": "stream",
          "name": "stdout",
          "text": [
            "tn: 4523, fp: 180, fn: 937, tp: 360\n"
          ]
        }
      ]
    }
  ]
}