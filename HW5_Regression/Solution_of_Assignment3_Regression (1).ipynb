{
  "nbformat": 4,
  "nbformat_minor": 0,
  "metadata": {
    "kernelspec": {
      "display_name": "Python 3",
      "language": "python",
      "name": "python3"
    },
    "language_info": {
      "codemirror_mode": {
        "name": "ipython",
        "version": 3
      },
      "file_extension": ".py",
      "mimetype": "text/x-python",
      "name": "python",
      "nbconvert_exporter": "python",
      "pygments_lexer": "ipython3",
      "version": "3.7.1"
    },
    "toc": {
      "base_numbering": 1,
      "nav_menu": {},
      "number_sections": true,
      "sideBar": true,
      "skip_h1_title": false,
      "title_cell": "Table of Contents",
      "title_sidebar": "Contents",
      "toc_cell": false,
      "toc_position": {},
      "toc_section_display": true,
      "toc_window_display": false
    },
    "colab": {
      "name": "Lab 2 - Assignment.ipynb",
      "provenance": [],
      "collapsed_sections": []
    },
    "widgets": {
      "application/vnd.jupyter.widget-state+json": {
        "552fdfdd6e2243e687f91775b05e493b": {
          "model_module": "@jupyter-widgets/controls",
          "model_name": "HBoxModel",
          "model_module_version": "1.5.0",
          "state": {
            "_dom_classes": [],
            "_model_module": "@jupyter-widgets/controls",
            "_model_module_version": "1.5.0",
            "_model_name": "HBoxModel",
            "_view_count": null,
            "_view_module": "@jupyter-widgets/controls",
            "_view_module_version": "1.5.0",
            "_view_name": "HBoxView",
            "box_style": "",
            "children": [
              "IPY_MODEL_2043cebb0b854cd8a2aaa728c406f2f1",
              "IPY_MODEL_cdb9b4eff44240dea73c71cf7f91d345",
              "IPY_MODEL_6d7b2afc233642c4bd7b047fe40583f5"
            ],
            "layout": "IPY_MODEL_6adcea70ea47410084811dc5870cc450"
          }
        },
        "2043cebb0b854cd8a2aaa728c406f2f1": {
          "model_module": "@jupyter-widgets/controls",
          "model_name": "HTMLModel",
          "model_module_version": "1.5.0",
          "state": {
            "_dom_classes": [],
            "_model_module": "@jupyter-widgets/controls",
            "_model_module_version": "1.5.0",
            "_model_name": "HTMLModel",
            "_view_count": null,
            "_view_module": "@jupyter-widgets/controls",
            "_view_module_version": "1.5.0",
            "_view_name": "HTMLView",
            "description": "",
            "description_tooltip": null,
            "layout": "IPY_MODEL_d557b953aa3f4fe991e2c2142645b5a2",
            "placeholder": "​",
            "style": "IPY_MODEL_620b1536f9294ac9a21d242bf63eca44",
            "value": "100%"
          }
        },
        "cdb9b4eff44240dea73c71cf7f91d345": {
          "model_module": "@jupyter-widgets/controls",
          "model_name": "FloatProgressModel",
          "model_module_version": "1.5.0",
          "state": {
            "_dom_classes": [],
            "_model_module": "@jupyter-widgets/controls",
            "_model_module_version": "1.5.0",
            "_model_name": "FloatProgressModel",
            "_view_count": null,
            "_view_module": "@jupyter-widgets/controls",
            "_view_module_version": "1.5.0",
            "_view_name": "ProgressView",
            "bar_style": "success",
            "description": "",
            "description_tooltip": null,
            "layout": "IPY_MODEL_c3da732f32d345c0927cdc770ace0a7c",
            "max": 5000,
            "min": 0,
            "orientation": "horizontal",
            "style": "IPY_MODEL_3a91451111514ed88f070d810ecf3ee2",
            "value": 5000
          }
        },
        "6d7b2afc233642c4bd7b047fe40583f5": {
          "model_module": "@jupyter-widgets/controls",
          "model_name": "HTMLModel",
          "model_module_version": "1.5.0",
          "state": {
            "_dom_classes": [],
            "_model_module": "@jupyter-widgets/controls",
            "_model_module_version": "1.5.0",
            "_model_name": "HTMLModel",
            "_view_count": null,
            "_view_module": "@jupyter-widgets/controls",
            "_view_module_version": "1.5.0",
            "_view_name": "HTMLView",
            "description": "",
            "description_tooltip": null,
            "layout": "IPY_MODEL_a12d1e0aed5d44d9b57480e7588ad0e8",
            "placeholder": "​",
            "style": "IPY_MODEL_304c92a20774423cb6ef4e1117aeb58d",
            "value": " 5000/5000 [00:47&lt;00:00, 145.10it/s]"
          }
        },
        "6adcea70ea47410084811dc5870cc450": {
          "model_module": "@jupyter-widgets/base",
          "model_name": "LayoutModel",
          "model_module_version": "1.2.0",
          "state": {
            "_model_module": "@jupyter-widgets/base",
            "_model_module_version": "1.2.0",
            "_model_name": "LayoutModel",
            "_view_count": null,
            "_view_module": "@jupyter-widgets/base",
            "_view_module_version": "1.2.0",
            "_view_name": "LayoutView",
            "align_content": null,
            "align_items": null,
            "align_self": null,
            "border": null,
            "bottom": null,
            "display": null,
            "flex": null,
            "flex_flow": null,
            "grid_area": null,
            "grid_auto_columns": null,
            "grid_auto_flow": null,
            "grid_auto_rows": null,
            "grid_column": null,
            "grid_gap": null,
            "grid_row": null,
            "grid_template_areas": null,
            "grid_template_columns": null,
            "grid_template_rows": null,
            "height": null,
            "justify_content": null,
            "justify_items": null,
            "left": null,
            "margin": null,
            "max_height": null,
            "max_width": null,
            "min_height": null,
            "min_width": null,
            "object_fit": null,
            "object_position": null,
            "order": null,
            "overflow": null,
            "overflow_x": null,
            "overflow_y": null,
            "padding": null,
            "right": null,
            "top": null,
            "visibility": null,
            "width": null
          }
        },
        "d557b953aa3f4fe991e2c2142645b5a2": {
          "model_module": "@jupyter-widgets/base",
          "model_name": "LayoutModel",
          "model_module_version": "1.2.0",
          "state": {
            "_model_module": "@jupyter-widgets/base",
            "_model_module_version": "1.2.0",
            "_model_name": "LayoutModel",
            "_view_count": null,
            "_view_module": "@jupyter-widgets/base",
            "_view_module_version": "1.2.0",
            "_view_name": "LayoutView",
            "align_content": null,
            "align_items": null,
            "align_self": null,
            "border": null,
            "bottom": null,
            "display": null,
            "flex": null,
            "flex_flow": null,
            "grid_area": null,
            "grid_auto_columns": null,
            "grid_auto_flow": null,
            "grid_auto_rows": null,
            "grid_column": null,
            "grid_gap": null,
            "grid_row": null,
            "grid_template_areas": null,
            "grid_template_columns": null,
            "grid_template_rows": null,
            "height": null,
            "justify_content": null,
            "justify_items": null,
            "left": null,
            "margin": null,
            "max_height": null,
            "max_width": null,
            "min_height": null,
            "min_width": null,
            "object_fit": null,
            "object_position": null,
            "order": null,
            "overflow": null,
            "overflow_x": null,
            "overflow_y": null,
            "padding": null,
            "right": null,
            "top": null,
            "visibility": null,
            "width": null
          }
        },
        "620b1536f9294ac9a21d242bf63eca44": {
          "model_module": "@jupyter-widgets/controls",
          "model_name": "DescriptionStyleModel",
          "model_module_version": "1.5.0",
          "state": {
            "_model_module": "@jupyter-widgets/controls",
            "_model_module_version": "1.5.0",
            "_model_name": "DescriptionStyleModel",
            "_view_count": null,
            "_view_module": "@jupyter-widgets/base",
            "_view_module_version": "1.2.0",
            "_view_name": "StyleView",
            "description_width": ""
          }
        },
        "c3da732f32d345c0927cdc770ace0a7c": {
          "model_module": "@jupyter-widgets/base",
          "model_name": "LayoutModel",
          "model_module_version": "1.2.0",
          "state": {
            "_model_module": "@jupyter-widgets/base",
            "_model_module_version": "1.2.0",
            "_model_name": "LayoutModel",
            "_view_count": null,
            "_view_module": "@jupyter-widgets/base",
            "_view_module_version": "1.2.0",
            "_view_name": "LayoutView",
            "align_content": null,
            "align_items": null,
            "align_self": null,
            "border": null,
            "bottom": null,
            "display": null,
            "flex": null,
            "flex_flow": null,
            "grid_area": null,
            "grid_auto_columns": null,
            "grid_auto_flow": null,
            "grid_auto_rows": null,
            "grid_column": null,
            "grid_gap": null,
            "grid_row": null,
            "grid_template_areas": null,
            "grid_template_columns": null,
            "grid_template_rows": null,
            "height": null,
            "justify_content": null,
            "justify_items": null,
            "left": null,
            "margin": null,
            "max_height": null,
            "max_width": null,
            "min_height": null,
            "min_width": null,
            "object_fit": null,
            "object_position": null,
            "order": null,
            "overflow": null,
            "overflow_x": null,
            "overflow_y": null,
            "padding": null,
            "right": null,
            "top": null,
            "visibility": null,
            "width": null
          }
        },
        "3a91451111514ed88f070d810ecf3ee2": {
          "model_module": "@jupyter-widgets/controls",
          "model_name": "ProgressStyleModel",
          "model_module_version": "1.5.0",
          "state": {
            "_model_module": "@jupyter-widgets/controls",
            "_model_module_version": "1.5.0",
            "_model_name": "ProgressStyleModel",
            "_view_count": null,
            "_view_module": "@jupyter-widgets/base",
            "_view_module_version": "1.2.0",
            "_view_name": "StyleView",
            "bar_color": null,
            "description_width": ""
          }
        },
        "a12d1e0aed5d44d9b57480e7588ad0e8": {
          "model_module": "@jupyter-widgets/base",
          "model_name": "LayoutModel",
          "model_module_version": "1.2.0",
          "state": {
            "_model_module": "@jupyter-widgets/base",
            "_model_module_version": "1.2.0",
            "_model_name": "LayoutModel",
            "_view_count": null,
            "_view_module": "@jupyter-widgets/base",
            "_view_module_version": "1.2.0",
            "_view_name": "LayoutView",
            "align_content": null,
            "align_items": null,
            "align_self": null,
            "border": null,
            "bottom": null,
            "display": null,
            "flex": null,
            "flex_flow": null,
            "grid_area": null,
            "grid_auto_columns": null,
            "grid_auto_flow": null,
            "grid_auto_rows": null,
            "grid_column": null,
            "grid_gap": null,
            "grid_row": null,
            "grid_template_areas": null,
            "grid_template_columns": null,
            "grid_template_rows": null,
            "height": null,
            "justify_content": null,
            "justify_items": null,
            "left": null,
            "margin": null,
            "max_height": null,
            "max_width": null,
            "min_height": null,
            "min_width": null,
            "object_fit": null,
            "object_position": null,
            "order": null,
            "overflow": null,
            "overflow_x": null,
            "overflow_y": null,
            "padding": null,
            "right": null,
            "top": null,
            "visibility": null,
            "width": null
          }
        },
        "304c92a20774423cb6ef4e1117aeb58d": {
          "model_module": "@jupyter-widgets/controls",
          "model_name": "DescriptionStyleModel",
          "model_module_version": "1.5.0",
          "state": {
            "_model_module": "@jupyter-widgets/controls",
            "_model_module_version": "1.5.0",
            "_model_name": "DescriptionStyleModel",
            "_view_count": null,
            "_view_module": "@jupyter-widgets/base",
            "_view_module_version": "1.2.0",
            "_view_name": "StyleView",
            "description_width": ""
          }
        }
      }
    }
  },
  "cells": [
    {
      "cell_type": "markdown",
      "metadata": {
        "id": "_sZRa2ehY4rJ"
      },
      "source": [
        "# Lab 2 Assignment"
      ]
    },
    {
      "cell_type": "markdown",
      "metadata": {
        "id": "SJjTIYSHY4rL"
      },
      "source": [
        "__Name:__ Priyanka Manoj Shewale"
      ]
    },
    {
      "cell_type": "markdown",
      "metadata": {
        "id": "XfGJ497SY4rM"
      },
      "source": [
        "In the assignment, you will analyze which factors are associated with the number of likes a Facebook post gets. The dataset is from https://archive.ics.uci.edu/ml/datasets/Facebook+metrics. All posts are from the page of a renowned cosmetics brand.\n",
        "\n",
        "The dependent variable is `like`."
      ]
    },
    {
      "cell_type": "code",
      "metadata": {
        "id": "Dg_djp4LY4rM"
      },
      "source": [
        "import pandas as pd\n",
        "import statsmodels.api as sm\n",
        "import numpy as np"
      ],
      "execution_count": 80,
      "outputs": []
    },
    {
      "cell_type": "code",
      "metadata": {
        "id": "Q6o_G3JgY4rN"
      },
      "source": [
        "fb_like = pd.read_csv('http://fengmai.net/download/data/bia652/dataset_Facebook.csv', sep=\";\")\n",
        "# remove unneeded variables\n",
        "not_needed = ['Page total likes', 'Total Interactions']\n",
        "fb_like = fb_like.drop(not_needed, axis = 1)"
      ],
      "execution_count": 81,
      "outputs": []
    },
    {
      "cell_type": "code",
      "metadata": {
        "scrolled": true,
        "id": "whaPV3lbY4rN",
        "colab": {
          "base_uri": "https://localhost:8080/",
          "height": 337
        },
        "outputId": "a380247c-3656-471b-fba6-3c417ba398d1"
      },
      "source": [
        "fb_like.head(5)"
      ],
      "execution_count": 82,
      "outputs": [
        {
          "output_type": "execute_result",
          "data": {
            "text/plain": [
              "     Type  Category  Post Month  Post Weekday  Post Hour  Paid  \\\n",
              "0   Photo         2          12             4          3   0.0   \n",
              "1  Status         2          12             3         10   0.0   \n",
              "2   Photo         3          12             3          3   0.0   \n",
              "3   Photo         2          12             2         10   1.0   \n",
              "4   Photo         2          12             2          3   0.0   \n",
              "\n",
              "   Lifetime Post Total Reach  Lifetime Post Total Impressions  \\\n",
              "0                       2752                             5091   \n",
              "1                      10460                            19057   \n",
              "2                       2413                             4373   \n",
              "3                      50128                            87991   \n",
              "4                       7244                            13594   \n",
              "\n",
              "   Lifetime Engaged Users  Lifetime Post Consumers  \\\n",
              "0                     178                      109   \n",
              "1                    1457                     1361   \n",
              "2                     177                      113   \n",
              "3                    2211                      790   \n",
              "4                     671                      410   \n",
              "\n",
              "   Lifetime Post Consumptions  \\\n",
              "0                         159   \n",
              "1                        1674   \n",
              "2                         154   \n",
              "3                        1119   \n",
              "4                         580   \n",
              "\n",
              "   Lifetime Post Impressions by people who have liked your Page  \\\n",
              "0                                               3078              \n",
              "1                                              11710              \n",
              "2                                               2812              \n",
              "3                                              61027              \n",
              "4                                               6228              \n",
              "\n",
              "   Lifetime Post reach by people who like your Page  \\\n",
              "0                                              1640   \n",
              "1                                              6112   \n",
              "2                                              1503   \n",
              "3                                             32048   \n",
              "4                                              3200   \n",
              "\n",
              "   Lifetime People who have liked your Page and engaged with your post  \\\n",
              "0                                                119                     \n",
              "1                                               1108                     \n",
              "2                                                132                     \n",
              "3                                               1386                     \n",
              "4                                                396                     \n",
              "\n",
              "   comment    like  share  \n",
              "0        4    79.0   17.0  \n",
              "1        5   130.0   29.0  \n",
              "2        0    66.0   14.0  \n",
              "3       58  1572.0  147.0  \n",
              "4       19   325.0   49.0  "
            ],
            "text/html": [
              "\n",
              "  <div id=\"df-d813ac5c-f1ab-4d21-b311-dbc8e7bf6a56\">\n",
              "    <div class=\"colab-df-container\">\n",
              "      <div>\n",
              "<style scoped>\n",
              "    .dataframe tbody tr th:only-of-type {\n",
              "        vertical-align: middle;\n",
              "    }\n",
              "\n",
              "    .dataframe tbody tr th {\n",
              "        vertical-align: top;\n",
              "    }\n",
              "\n",
              "    .dataframe thead th {\n",
              "        text-align: right;\n",
              "    }\n",
              "</style>\n",
              "<table border=\"1\" class=\"dataframe\">\n",
              "  <thead>\n",
              "    <tr style=\"text-align: right;\">\n",
              "      <th></th>\n",
              "      <th>Type</th>\n",
              "      <th>Category</th>\n",
              "      <th>Post Month</th>\n",
              "      <th>Post Weekday</th>\n",
              "      <th>Post Hour</th>\n",
              "      <th>Paid</th>\n",
              "      <th>Lifetime Post Total Reach</th>\n",
              "      <th>Lifetime Post Total Impressions</th>\n",
              "      <th>Lifetime Engaged Users</th>\n",
              "      <th>Lifetime Post Consumers</th>\n",
              "      <th>Lifetime Post Consumptions</th>\n",
              "      <th>Lifetime Post Impressions by people who have liked your Page</th>\n",
              "      <th>Lifetime Post reach by people who like your Page</th>\n",
              "      <th>Lifetime People who have liked your Page and engaged with your post</th>\n",
              "      <th>comment</th>\n",
              "      <th>like</th>\n",
              "      <th>share</th>\n",
              "    </tr>\n",
              "  </thead>\n",
              "  <tbody>\n",
              "    <tr>\n",
              "      <th>0</th>\n",
              "      <td>Photo</td>\n",
              "      <td>2</td>\n",
              "      <td>12</td>\n",
              "      <td>4</td>\n",
              "      <td>3</td>\n",
              "      <td>0.0</td>\n",
              "      <td>2752</td>\n",
              "      <td>5091</td>\n",
              "      <td>178</td>\n",
              "      <td>109</td>\n",
              "      <td>159</td>\n",
              "      <td>3078</td>\n",
              "      <td>1640</td>\n",
              "      <td>119</td>\n",
              "      <td>4</td>\n",
              "      <td>79.0</td>\n",
              "      <td>17.0</td>\n",
              "    </tr>\n",
              "    <tr>\n",
              "      <th>1</th>\n",
              "      <td>Status</td>\n",
              "      <td>2</td>\n",
              "      <td>12</td>\n",
              "      <td>3</td>\n",
              "      <td>10</td>\n",
              "      <td>0.0</td>\n",
              "      <td>10460</td>\n",
              "      <td>19057</td>\n",
              "      <td>1457</td>\n",
              "      <td>1361</td>\n",
              "      <td>1674</td>\n",
              "      <td>11710</td>\n",
              "      <td>6112</td>\n",
              "      <td>1108</td>\n",
              "      <td>5</td>\n",
              "      <td>130.0</td>\n",
              "      <td>29.0</td>\n",
              "    </tr>\n",
              "    <tr>\n",
              "      <th>2</th>\n",
              "      <td>Photo</td>\n",
              "      <td>3</td>\n",
              "      <td>12</td>\n",
              "      <td>3</td>\n",
              "      <td>3</td>\n",
              "      <td>0.0</td>\n",
              "      <td>2413</td>\n",
              "      <td>4373</td>\n",
              "      <td>177</td>\n",
              "      <td>113</td>\n",
              "      <td>154</td>\n",
              "      <td>2812</td>\n",
              "      <td>1503</td>\n",
              "      <td>132</td>\n",
              "      <td>0</td>\n",
              "      <td>66.0</td>\n",
              "      <td>14.0</td>\n",
              "    </tr>\n",
              "    <tr>\n",
              "      <th>3</th>\n",
              "      <td>Photo</td>\n",
              "      <td>2</td>\n",
              "      <td>12</td>\n",
              "      <td>2</td>\n",
              "      <td>10</td>\n",
              "      <td>1.0</td>\n",
              "      <td>50128</td>\n",
              "      <td>87991</td>\n",
              "      <td>2211</td>\n",
              "      <td>790</td>\n",
              "      <td>1119</td>\n",
              "      <td>61027</td>\n",
              "      <td>32048</td>\n",
              "      <td>1386</td>\n",
              "      <td>58</td>\n",
              "      <td>1572.0</td>\n",
              "      <td>147.0</td>\n",
              "    </tr>\n",
              "    <tr>\n",
              "      <th>4</th>\n",
              "      <td>Photo</td>\n",
              "      <td>2</td>\n",
              "      <td>12</td>\n",
              "      <td>2</td>\n",
              "      <td>3</td>\n",
              "      <td>0.0</td>\n",
              "      <td>7244</td>\n",
              "      <td>13594</td>\n",
              "      <td>671</td>\n",
              "      <td>410</td>\n",
              "      <td>580</td>\n",
              "      <td>6228</td>\n",
              "      <td>3200</td>\n",
              "      <td>396</td>\n",
              "      <td>19</td>\n",
              "      <td>325.0</td>\n",
              "      <td>49.0</td>\n",
              "    </tr>\n",
              "  </tbody>\n",
              "</table>\n",
              "</div>\n",
              "      <button class=\"colab-df-convert\" onclick=\"convertToInteractive('df-d813ac5c-f1ab-4d21-b311-dbc8e7bf6a56')\"\n",
              "              title=\"Convert this dataframe to an interactive table.\"\n",
              "              style=\"display:none;\">\n",
              "        \n",
              "  <svg xmlns=\"http://www.w3.org/2000/svg\" height=\"24px\"viewBox=\"0 0 24 24\"\n",
              "       width=\"24px\">\n",
              "    <path d=\"M0 0h24v24H0V0z\" fill=\"none\"/>\n",
              "    <path d=\"M18.56 5.44l.94 2.06.94-2.06 2.06-.94-2.06-.94-.94-2.06-.94 2.06-2.06.94zm-11 1L8.5 8.5l.94-2.06 2.06-.94-2.06-.94L8.5 2.5l-.94 2.06-2.06.94zm10 10l.94 2.06.94-2.06 2.06-.94-2.06-.94-.94-2.06-.94 2.06-2.06.94z\"/><path d=\"M17.41 7.96l-1.37-1.37c-.4-.4-.92-.59-1.43-.59-.52 0-1.04.2-1.43.59L10.3 9.45l-7.72 7.72c-.78.78-.78 2.05 0 2.83L4 21.41c.39.39.9.59 1.41.59.51 0 1.02-.2 1.41-.59l7.78-7.78 2.81-2.81c.8-.78.8-2.07 0-2.86zM5.41 20L4 18.59l7.72-7.72 1.47 1.35L5.41 20z\"/>\n",
              "  </svg>\n",
              "      </button>\n",
              "      \n",
              "  <style>\n",
              "    .colab-df-container {\n",
              "      display:flex;\n",
              "      flex-wrap:wrap;\n",
              "      gap: 12px;\n",
              "    }\n",
              "\n",
              "    .colab-df-convert {\n",
              "      background-color: #E8F0FE;\n",
              "      border: none;\n",
              "      border-radius: 50%;\n",
              "      cursor: pointer;\n",
              "      display: none;\n",
              "      fill: #1967D2;\n",
              "      height: 32px;\n",
              "      padding: 0 0 0 0;\n",
              "      width: 32px;\n",
              "    }\n",
              "\n",
              "    .colab-df-convert:hover {\n",
              "      background-color: #E2EBFA;\n",
              "      box-shadow: 0px 1px 2px rgba(60, 64, 67, 0.3), 0px 1px 3px 1px rgba(60, 64, 67, 0.15);\n",
              "      fill: #174EA6;\n",
              "    }\n",
              "\n",
              "    [theme=dark] .colab-df-convert {\n",
              "      background-color: #3B4455;\n",
              "      fill: #D2E3FC;\n",
              "    }\n",
              "\n",
              "    [theme=dark] .colab-df-convert:hover {\n",
              "      background-color: #434B5C;\n",
              "      box-shadow: 0px 1px 3px 1px rgba(0, 0, 0, 0.15);\n",
              "      filter: drop-shadow(0px 1px 2px rgba(0, 0, 0, 0.3));\n",
              "      fill: #FFFFFF;\n",
              "    }\n",
              "  </style>\n",
              "\n",
              "      <script>\n",
              "        const buttonEl =\n",
              "          document.querySelector('#df-d813ac5c-f1ab-4d21-b311-dbc8e7bf6a56 button.colab-df-convert');\n",
              "        buttonEl.style.display =\n",
              "          google.colab.kernel.accessAllowed ? 'block' : 'none';\n",
              "\n",
              "        async function convertToInteractive(key) {\n",
              "          const element = document.querySelector('#df-d813ac5c-f1ab-4d21-b311-dbc8e7bf6a56');\n",
              "          const dataTable =\n",
              "            await google.colab.kernel.invokeFunction('convertToInteractive',\n",
              "                                                     [key], {});\n",
              "          if (!dataTable) return;\n",
              "\n",
              "          const docLinkHtml = 'Like what you see? Visit the ' +\n",
              "            '<a target=\"_blank\" href=https://colab.research.google.com/notebooks/data_table.ipynb>data table notebook</a>'\n",
              "            + ' to learn more about interactive tables.';\n",
              "          element.innerHTML = '';\n",
              "          dataTable['output_type'] = 'display_data';\n",
              "          await google.colab.output.renderOutput(dataTable, element);\n",
              "          const docLink = document.createElement('div');\n",
              "          docLink.innerHTML = docLinkHtml;\n",
              "          element.appendChild(docLink);\n",
              "        }\n",
              "      </script>\n",
              "    </div>\n",
              "  </div>\n",
              "  "
            ]
          },
          "metadata": {},
          "execution_count": 82
        }
      ]
    },
    {
      "cell_type": "markdown",
      "metadata": {
        "id": "AODx_Zd9Y4rN"
      },
      "source": [
        "## Q1 - Modeling with categorical Xs"
      ]
    },
    {
      "cell_type": "markdown",
      "metadata": {
        "id": "pPCuZkEjY4rO"
      },
      "source": [
        "- Use [pd.get_dummies()](https://pandas.pydata.org/pandas-docs/stable/reference/api/pandas.get_dummies.html) to create dummy variables for the following variables: `Type`, `Category`, `Post Month`, `Post Weekday`, `Post Hour`. Make sure that `drop_firt=True` to avoid multicollinearity problem.\n",
        "- You may want to read [this post](https://stackoverflow.com/questions/24109779/running-get-dummies-on-several-dataframe-columns) to create dummies for multiple columns.\n",
        "- The origninal columns will be automatically dropped after you create the dummies. \n",
        "- You may want to check if any rows have missing variables and drop them accordingly (use [dropna](https://pandas.pydata.org/pandas-docs/stable/reference/api/pandas.DataFrame.dropna.html)). \n",
        "- Create a regression model that uses all the variables (other than like) as independent variables. You'll need to use `statsmodels` and not `sklearn`. Display the OLS Regression Results.  \n",
        "- No need to split the data to train-test sets for this exercise. "
      ]
    },
    {
      "cell_type": "code",
      "metadata": {
        "id": "3TddedDdY4rO",
        "colab": {
          "base_uri": "https://localhost:8080/"
        },
        "outputId": "3a104f7f-f7da-45d2-fe15-c6c81b20d728"
      },
      "source": [
        "#### YOUR CODE HERE ####\n",
        "dfo=pd.get_dummies(data=fb_like, columns=['Type', 'Category','Post Month','Post Weekday','Post Hour'],drop_first=True)\n",
        "df=dfo.dropna(axis=0,how='any')\n",
        "x_variable=df.drop('like',axis=1)\n",
        "x_variable=sm.add_constant(x_variable)\n",
        "y_variable=df.like\n",
        "model = sm.OLS(y_variable, x_variable)\n",
        "result=model.fit()\n",
        "print(result.summary())"
      ],
      "execution_count": 83,
      "outputs": [
        {
          "output_type": "stream",
          "name": "stdout",
          "text": [
            "                            OLS Regression Results                            \n",
            "==============================================================================\n",
            "Dep. Variable:                   like   R-squared:                       0.991\n",
            "Model:                            OLS   Adj. R-squared:                  0.990\n",
            "Method:                 Least Squares   F-statistic:                     937.5\n",
            "Date:                Thu, 07 Apr 2022   Prob (F-statistic):               0.00\n",
            "Time:                        02:53:11   Log-Likelihood:                -2387.3\n",
            "No. Observations:                 495   AIC:                             4885.\n",
            "Df Residuals:                     440   BIC:                             5116.\n",
            "Df Model:                          54                                         \n",
            "Covariance Type:            nonrobust                                         \n",
            "=======================================================================================================================================\n",
            "                                                                          coef    std err          t      P>|t|      [0.025      0.975]\n",
            "---------------------------------------------------------------------------------------------------------------------------------------\n",
            "const                                                                  -5.9270     19.916     -0.298      0.766     -45.070      33.216\n",
            "Paid                                                                    0.2966      3.424      0.087      0.931      -6.434       7.027\n",
            "Lifetime Post Total Reach                                              -0.0005      0.000     -1.492      0.136      -0.001       0.000\n",
            "Lifetime Post Total Impressions                                      6.861e-05      0.000      0.618      0.537      -0.000       0.000\n",
            "Lifetime Engaged Users                                                  0.9812      0.016     62.388      0.000       0.950       1.012\n",
            "Lifetime Post Consumers                                                -0.9818      0.015    -64.367      0.000      -1.012      -0.952\n",
            "Lifetime Post Consumptions                                              0.0048      0.001      4.185      0.000       0.003       0.007\n",
            "Lifetime Post Impressions by people who have liked your Page        -6.614e-05      0.000     -0.556      0.579      -0.000       0.000\n",
            "Lifetime Post reach by people who like your Page                        0.0010      0.001      1.576      0.116      -0.000       0.002\n",
            "Lifetime People who have liked your Page and engaged with your post     0.0341      0.007      4.762      0.000       0.020       0.048\n",
            "comment                                                                 0.8360      0.152      5.488      0.000       0.537       1.135\n",
            "share                                                                   1.1576      0.095     12.178      0.000       0.971       1.344\n",
            "Type_Photo                                                            -10.9487      7.716     -1.419      0.157     -26.113       4.215\n",
            "Type_Status                                                           -37.9881     11.181     -3.398      0.001     -59.963     -16.013\n",
            "Type_Video                                                              3.6095     15.242      0.237      0.813     -26.346      33.565\n",
            "Category_2                                                             10.4000      4.783      2.175      0.030       1.000      19.800\n",
            "Category_3                                                             11.3567      4.333      2.621      0.009       2.841      19.872\n",
            "Post Month_2                                                           13.4233     10.214      1.314      0.189      -6.650      33.497\n",
            "Post Month_3                                                           10.0742     10.468      0.962      0.336     -10.500      30.648\n",
            "Post Month_4                                                           10.9776      8.696      1.262      0.207      -6.112      28.067\n",
            "Post Month_5                                                           13.7234      8.983      1.528      0.127      -3.931      31.378\n",
            "Post Month_6                                                            1.5441      8.727      0.177      0.860     -15.608      18.697\n",
            "Post Month_7                                                            6.0394      8.810      0.686      0.493     -11.275      23.354\n",
            "Post Month_8                                                           10.1974      9.440      1.080      0.281      -8.355      28.750\n",
            "Post Month_9                                                           13.9496      9.386      1.486      0.138      -4.498      32.397\n",
            "Post Month_10                                                          17.5328      8.761      2.001      0.046       0.314      34.752\n",
            "Post Month_11                                                          -2.6575      9.380     -0.283      0.777     -21.092      15.777\n",
            "Post Month_12                                                         -10.6648      9.053     -1.178      0.239     -28.458       7.128\n",
            "Post Weekday_2                                                         -1.6845      5.880     -0.286      0.775     -13.240       9.871\n",
            "Post Weekday_3                                                          2.4969      5.925      0.421      0.674      -9.149      14.143\n",
            "Post Weekday_4                                                          4.9301      5.733      0.860      0.390      -6.338      16.198\n",
            "Post Weekday_5                                                         -3.1533      5.826     -0.541      0.589     -14.603       8.297\n",
            "Post Weekday_6                                                         -2.8285      5.613     -0.504      0.615     -13.859       8.203\n",
            "Post Weekday_7                                                         -4.2242      5.471     -0.772      0.440     -14.977       6.528\n",
            "Post Hour_2                                                             1.6236     17.314      0.094      0.925     -32.405      35.652\n",
            "Post Hour_3                                                            -1.4974     16.691     -0.090      0.929     -34.302      31.307\n",
            "Post Hour_4                                                             2.6211     17.322      0.151      0.880     -31.422      36.664\n",
            "Post Hour_5                                                           -12.9369     18.719     -0.691      0.490     -49.727      23.853\n",
            "Post Hour_6                                                            13.3447     18.494      0.722      0.471     -23.003      49.692\n",
            "Post Hour_7                                                            -3.8571     18.708     -0.206      0.837     -40.626      32.911\n",
            "Post Hour_8                                                            -0.4901     18.936     -0.026      0.979     -37.707      36.727\n",
            "Post Hour_9                                                            -6.5012     17.461     -0.372      0.710     -40.819      27.817\n",
            "Post Hour_10                                                           -3.8933     16.823     -0.231      0.817     -36.957      29.170\n",
            "Post Hour_11                                                            0.5027     17.075      0.029      0.977     -33.057      34.062\n",
            "Post Hour_12                                                           -7.8919     17.536     -0.450      0.653     -42.357      26.573\n",
            "Post Hour_13                                                           -0.0621     17.029     -0.004      0.997     -33.530      33.406\n",
            "Post Hour_14                                                           -0.6347     18.885     -0.034      0.973     -37.751      36.481\n",
            "Post Hour_15                                                            1.6032     22.089      0.073      0.942     -41.811      45.017\n",
            "Post Hour_16                                                           -5.9786     37.052     -0.161      0.872     -78.799      66.842\n",
            "Post Hour_17                                                           33.6910     26.489      1.272      0.204     -18.370      85.753\n",
            "Post Hour_18                                                            1.2307     26.351      0.047      0.963     -50.558      53.019\n",
            "Post Hour_19                                                            0.3705     36.973      0.010      0.992     -72.296      73.037\n",
            "Post Hour_20                                                           29.9103     36.483      0.820      0.413     -41.792     101.613\n",
            "Post Hour_22                                                           -0.7754     36.664     -0.021      0.983     -72.834      71.283\n",
            "Post Hour_23                                                            3.6164     36.280      0.100      0.921     -67.688      74.921\n",
            "==============================================================================\n",
            "Omnibus:                      370.229   Durbin-Watson:                   2.000\n",
            "Prob(Omnibus):                  0.000   Jarque-Bera (JB):            19986.751\n",
            "Skew:                           2.653   Prob(JB):                         0.00\n",
            "Kurtosis:                      33.674   Cond. No.                     5.66e+06\n",
            "==============================================================================\n",
            "\n",
            "Warnings:\n",
            "[1] Standard Errors assume that the covariance matrix of the errors is correctly specified.\n",
            "[2] The condition number is large, 5.66e+06. This might indicate that there are\n",
            "strong multicollinearity or other numerical problems.\n"
          ]
        },
        {
          "output_type": "stream",
          "name": "stderr",
          "text": [
            "/usr/local/lib/python3.7/dist-packages/statsmodels/tsa/tsatools.py:117: FutureWarning: In a future version of pandas all arguments of concat except for the argument 'objs' will be keyword-only\n",
            "  x = pd.concat(x[::order], 1)\n"
          ]
        }
      ]
    },
    {
      "cell_type": "markdown",
      "metadata": {
        "id": "H-hwxfFSY4rP"
      },
      "source": [
        "# Q2 Bootstrap confidence interval"
      ]
    },
    {
      "cell_type": "markdown",
      "metadata": {
        "id": "63wvJe2qY4rP"
      },
      "source": [
        "Your tasks is to use the boostrap method to construct a 95% CI for the coefficients for **comment** and **share** using the same model as in Q1. Do you get similar CI to Q1? Why or why not?"
      ]
    },
    {
      "cell_type": "code",
      "source": [
        "! pip install mlxtend\n",
        "! pip install -U statsmodels\n",
        "import pandas as pd\n",
        "import statsmodels.api as sm\n",
        "import numpy as np\n",
        "import statsmodels.formula.api as smf\n",
        "from itertools import cycle\n",
        "from tqdm.auto import tqdm\n",
        "from scipy import interpolate\n",
        "from sklearn import preprocessing\n",
        "from sklearn import datasets"
      ],
      "metadata": {
        "colab": {
          "base_uri": "https://localhost:8080/"
        },
        "id": "_Sby36xg26UC",
        "outputId": "b90685ad-e5e3-4f65-8193-901926036830"
      },
      "execution_count": 84,
      "outputs": [
        {
          "output_type": "stream",
          "name": "stdout",
          "text": [
            "Requirement already satisfied: mlxtend in /usr/local/lib/python3.7/dist-packages (0.14.0)\n",
            "Requirement already satisfied: scikit-learn>=0.18 in /usr/local/lib/python3.7/dist-packages (from mlxtend) (1.0.2)\n",
            "Requirement already satisfied: scipy>=0.17 in /usr/local/lib/python3.7/dist-packages (from mlxtend) (1.4.1)\n",
            "Requirement already satisfied: setuptools in /usr/local/lib/python3.7/dist-packages (from mlxtend) (57.4.0)\n",
            "Requirement already satisfied: numpy>=1.10.4 in /usr/local/lib/python3.7/dist-packages (from mlxtend) (1.21.5)\n",
            "Requirement already satisfied: pandas>=0.17.1 in /usr/local/lib/python3.7/dist-packages (from mlxtend) (1.3.5)\n",
            "Requirement already satisfied: matplotlib>=1.5.1 in /usr/local/lib/python3.7/dist-packages (from mlxtend) (3.2.2)\n",
            "Requirement already satisfied: python-dateutil>=2.1 in /usr/local/lib/python3.7/dist-packages (from matplotlib>=1.5.1->mlxtend) (2.8.2)\n",
            "Requirement already satisfied: kiwisolver>=1.0.1 in /usr/local/lib/python3.7/dist-packages (from matplotlib>=1.5.1->mlxtend) (1.4.0)\n",
            "Requirement already satisfied: pyparsing!=2.0.4,!=2.1.2,!=2.1.6,>=2.0.1 in /usr/local/lib/python3.7/dist-packages (from matplotlib>=1.5.1->mlxtend) (3.0.7)\n",
            "Requirement already satisfied: cycler>=0.10 in /usr/local/lib/python3.7/dist-packages (from matplotlib>=1.5.1->mlxtend) (0.11.0)\n",
            "Requirement already satisfied: typing-extensions in /usr/local/lib/python3.7/dist-packages (from kiwisolver>=1.0.1->matplotlib>=1.5.1->mlxtend) (3.10.0.2)\n",
            "Requirement already satisfied: pytz>=2017.3 in /usr/local/lib/python3.7/dist-packages (from pandas>=0.17.1->mlxtend) (2018.9)\n",
            "Requirement already satisfied: six>=1.5 in /usr/local/lib/python3.7/dist-packages (from python-dateutil>=2.1->matplotlib>=1.5.1->mlxtend) (1.15.0)\n",
            "Requirement already satisfied: threadpoolctl>=2.0.0 in /usr/local/lib/python3.7/dist-packages (from scikit-learn>=0.18->mlxtend) (3.1.0)\n",
            "Requirement already satisfied: joblib>=0.11 in /usr/local/lib/python3.7/dist-packages (from scikit-learn>=0.18->mlxtend) (1.1.0)\n",
            "Requirement already satisfied: statsmodels in /usr/local/lib/python3.7/dist-packages (0.13.2)\n",
            "Requirement already satisfied: patsy>=0.5.2 in /usr/local/lib/python3.7/dist-packages (from statsmodels) (0.5.2)\n",
            "Requirement already satisfied: pandas>=0.25 in /usr/local/lib/python3.7/dist-packages (from statsmodels) (1.3.5)\n",
            "Requirement already satisfied: packaging>=21.3 in /usr/local/lib/python3.7/dist-packages (from statsmodels) (21.3)\n",
            "Requirement already satisfied: numpy>=1.17 in /usr/local/lib/python3.7/dist-packages (from statsmodels) (1.21.5)\n",
            "Requirement already satisfied: scipy>=1.3 in /usr/local/lib/python3.7/dist-packages (from statsmodels) (1.4.1)\n",
            "Requirement already satisfied: pyparsing!=3.0.5,>=2.0.2 in /usr/local/lib/python3.7/dist-packages (from packaging>=21.3->statsmodels) (3.0.7)\n",
            "Requirement already satisfied: pytz>=2017.3 in /usr/local/lib/python3.7/dist-packages (from pandas>=0.25->statsmodels) (2018.9)\n",
            "Requirement already satisfied: python-dateutil>=2.7.3 in /usr/local/lib/python3.7/dist-packages (from pandas>=0.25->statsmodels) (2.8.2)\n",
            "Requirement already satisfied: six in /usr/local/lib/python3.7/dist-packages (from patsy>=0.5.2->statsmodels) (1.15.0)\n"
          ]
        }
      ]
    },
    {
      "cell_type": "code",
      "metadata": {
        "id": "qkEK0Y2XY4rP",
        "colab": {
          "base_uri": "https://localhost:8080/",
          "height": 84,
          "referenced_widgets": [
            "552fdfdd6e2243e687f91775b05e493b",
            "2043cebb0b854cd8a2aaa728c406f2f1",
            "cdb9b4eff44240dea73c71cf7f91d345",
            "6d7b2afc233642c4bd7b047fe40583f5",
            "6adcea70ea47410084811dc5870cc450",
            "d557b953aa3f4fe991e2c2142645b5a2",
            "620b1536f9294ac9a21d242bf63eca44",
            "c3da732f32d345c0927cdc770ace0a7c",
            "3a91451111514ed88f070d810ecf3ee2",
            "a12d1e0aed5d44d9b57480e7588ad0e8",
            "304c92a20774423cb6ef4e1117aeb58d"
          ]
        },
        "outputId": "7a7c8789-3c41-4e64-d416-6bd3f33d9cb8"
      },
      "source": [
        "bootstrapped_ests = []\n",
        "for i in tqdm(range(5000)):\n",
        "    # YOUR CODE HERE \n",
        "    fb_like_boot = df.sample(n=len(df), replace=True)\n",
        "    fb_model_boot = smf.ols(formula='like~comment+share', data=fb_like_boot).fit()\n",
        "    bootstrapped_ests.append(fb_model_boot.params[['comment','share']])\n",
        "    \n",
        "b_comments, b_shares = zip(*bootstrapped_ests)\n",
        "\n",
        "print(\"The 95% bootstrapped CI of b_comments is [{:.2f}, {:.2f}].\".format(\n",
        "    np.percentile(b_comments, 2.5),\n",
        "    np.percentile(b_comments, 97.5)))\n",
        "\n",
        "print(\"The 95% bootstrapped CI of b_shares is [{:.2f}, {:.2f}].\".format(\n",
        "    np.percentile(b_shares, 2.5),\n",
        "    np.percentile(b_shares, 97.5)))"
      ],
      "execution_count": 85,
      "outputs": [
        {
          "output_type": "display_data",
          "data": {
            "text/plain": [
              "  0%|          | 0/5000 [00:00<?, ?it/s]"
            ],
            "application/vnd.jupyter.widget-view+json": {
              "version_major": 2,
              "version_minor": 0,
              "model_id": "552fdfdd6e2243e687f91775b05e493b"
            }
          },
          "metadata": {}
        },
        {
          "output_type": "stream",
          "name": "stdout",
          "text": [
            "The 95% bootstrapped CI of b_comments is [2.07, 5.33].\n",
            "The 95% bootstrapped CI of b_shares is [4.70, 7.04].\n"
          ]
        }
      ]
    },
    {
      "cell_type": "markdown",
      "metadata": {
        "id": "N8f8FrIcY4rP"
      },
      "source": [
        "## Q3 - Use AIC/BIC for model selection"
      ]
    },
    {
      "cell_type": "markdown",
      "metadata": {
        "id": "mMNmNYBTY4rQ"
      },
      "source": [
        "- Read the [example here](https://scikit-learn.org/stable/auto_examples/linear_model/plot_lasso_model_selection.html#sphx-glr-auto-examples-linear-model-plot-lasso-model-selection-py) and the [manual here](https://scikit-learn.org/stable/modules/generated/sklearn.linear_model.LassoLarsIC.html#sklearn.linear_model.LassoLarsIC). You may want to create a separate notebook to run the example.\n",
        "- Use `LassoLarsIC` to select the best model using the **`bic`** criterion. \n",
        "- There is no need to split the data to train-test sets for this exercise. \n",
        "- Which X variables are selected by the `LassoLarsIC` method? Answer using variable names. "
      ]
    },
    {
      "cell_type": "code",
      "metadata": {
        "id": "2GyMlgKeY4rQ"
      },
      "source": [
        "#### YOUR CODE HERE ####\n",
        "from sklearn.linear_model import LinearRegression\n",
        "from sklearn.linear_model import LassoCV, LassoLarsCV, LassoLarsIC\n",
        "from sklearn import linear_model"
      ],
      "execution_count": 86,
      "outputs": []
    },
    {
      "cell_type": "code",
      "source": [
        "#LassoLarsIc model using bic \n",
        "model_bic = linear_model.LassoLarsIC(criterion='bic')\n",
        "model_bic.fit(x_variable, y_variable)\n",
        "model_bic.coef_\n",
        "#alpha_bic_ = model_bic.alpha_"
      ],
      "metadata": {
        "colab": {
          "base_uri": "https://localhost:8080/"
        },
        "id": "hklgEJpb3kd3",
        "outputId": "6e8e022b-ddaa-4dd0-b2f3-e940137c1740"
      },
      "execution_count": 87,
      "outputs": [
        {
          "output_type": "stream",
          "name": "stderr",
          "text": [
            "/usr/local/lib/python3.7/dist-packages/sklearn/linear_model/_base.py:138: FutureWarning: The default of 'normalize' will be set to False in version 1.2 and deprecated in version 1.4.\n",
            "If you wish to scale the data, use Pipeline with a StandardScaler in a preprocessing stage. To reproduce the previous behavior:\n",
            "\n",
            "from sklearn.pipeline import make_pipeline\n",
            "\n",
            "model = make_pipeline(StandardScaler(with_mean=False), LassoLarsIC())\n",
            "\n",
            "If you wish to pass a sample_weight parameter, you need to pass it as a fit parameter to each step of the pipeline as follows:\n",
            "\n",
            "kwargs = {s[0] + '__sample_weight': sample_weight for s in model.steps}\n",
            "model.fit(X, y, **kwargs)\n",
            "\n",
            "Set parameter alpha to: original_alpha * np.sqrt(n_samples). \n",
            "  FutureWarning,\n"
          ]
        },
        {
          "output_type": "execute_result",
          "data": {
            "text/plain": [
              "array([ 0.00000000e+00,  7.39631746e-01, -1.25444860e-04, -1.58522447e-05,\n",
              "        9.11242490e-01, -9.12740618e-01,  3.80946209e-03,  0.00000000e+00,\n",
              "        1.29521037e-03,  3.46663490e-02,  9.64880172e-01,  1.38857964e+00,\n",
              "        0.00000000e+00, -2.93752069e+01,  0.00000000e+00,  8.66328204e+00,\n",
              "        1.10202659e+01,  1.81045603e+00,  4.55791604e+00,  1.31989681e+00,\n",
              "        7.18636470e+00, -2.98511964e+00,  0.00000000e+00,  5.61162022e+00,\n",
              "        8.59759110e+00,  1.17206876e+01, -5.31766745e+00, -1.04309016e+01,\n",
              "       -1.94374071e+00,  0.00000000e+00,  3.40630897e+00, -1.71314293e+00,\n",
              "       -2.55488286e+00, -3.74662285e+00,  0.00000000e+00,  0.00000000e+00,\n",
              "        6.73991606e-01, -6.27725532e+00,  1.21477912e+01,  0.00000000e+00,\n",
              "        0.00000000e+00, -2.88672223e+00, -2.85472318e+00,  0.00000000e+00,\n",
              "       -5.86870756e+00,  0.00000000e+00,  1.03424431e-01,  0.00000000e+00,\n",
              "       -2.97120950e+00,  3.36168263e+01,  2.62372032e-01,  0.00000000e+00,\n",
              "        2.46979061e+01,  0.00000000e+00,  0.00000000e+00])"
            ]
          },
          "metadata": {},
          "execution_count": 87
        }
      ]
    },
    {
      "cell_type": "code",
      "source": [
        "x_variable.columns[np.abs(model_bic.coef_) > 0] #X variables are selected by the LassoLarsIC method"
      ],
      "metadata": {
        "colab": {
          "base_uri": "https://localhost:8080/"
        },
        "id": "PMan9u_U4LEg",
        "outputId": "b31f4ae9-fa89-4bad-f570-3aaa43f6bd02"
      },
      "execution_count": 88,
      "outputs": [
        {
          "output_type": "execute_result",
          "data": {
            "text/plain": [
              "Index(['Paid', 'Lifetime Post Total Reach', 'Lifetime Post Total Impressions',\n",
              "       'Lifetime Engaged Users', 'Lifetime Post Consumers',\n",
              "       'Lifetime Post Consumptions',\n",
              "       'Lifetime Post reach by people who like your Page',\n",
              "       'Lifetime People who have liked your Page and engaged with your post',\n",
              "       'comment', 'share', 'Type_Status', 'Category_2', 'Category_3',\n",
              "       'Post Month_2', 'Post Month_3', 'Post Month_4', 'Post Month_5',\n",
              "       'Post Month_6', 'Post Month_8', 'Post Month_9', 'Post Month_10',\n",
              "       'Post Month_11', 'Post Month_12', 'Post Weekday_2', 'Post Weekday_4',\n",
              "       'Post Weekday_5', 'Post Weekday_6', 'Post Weekday_7', 'Post Hour_4',\n",
              "       'Post Hour_5', 'Post Hour_6', 'Post Hour_9', 'Post Hour_10',\n",
              "       'Post Hour_12', 'Post Hour_14', 'Post Hour_16', 'Post Hour_17',\n",
              "       'Post Hour_18', 'Post Hour_20'],\n",
              "      dtype='object')"
            ]
          },
          "metadata": {},
          "execution_count": 88
        }
      ]
    },
    {
      "cell_type": "markdown",
      "metadata": {
        "id": "gZA0-W8oY4rQ"
      },
      "source": [
        "## Q4 - Compare out-of-sample perormance"
      ]
    },
    {
      "cell_type": "markdown",
      "metadata": {
        "id": "5XK4EcwyY4rR"
      },
      "source": [
        "- Split the data to 90% train and 10% test set. \n",
        "- Train three models using the train set:\n",
        "   * `LassoLarsIC` model (a model that uses BIC to select variables)\n",
        "   * a full model (a model that includes all X variables)\n",
        "   * a `LassoCV` model (a model that uses CV on train set to select variables)\n",
        "- Remember to train a scaler using train set only, and transform both X_train and X_test. \n",
        "- Compare their test-set performance using MSE. Which model has the best performance? "
      ]
    },
    {
      "cell_type": "code",
      "metadata": {
        "id": "V9zboapBY4rR"
      },
      "source": [
        "#### YOUR CODE HERE ####\n",
        "from sklearn.model_selection import train_test_split\n",
        "from sklearn.linear_model import Lasso, LassoCV, lars_path\n",
        "from sklearn import metrics\n",
        "X_train, X_test, y_train, y_test = train_test_split(x_variable, y_variable, test_size=0.1)\n",
        "scaler = preprocessing.StandardScaler().fit(X_train)"
      ],
      "execution_count": 89,
      "outputs": []
    },
    {
      "cell_type": "markdown",
      "source": [
        "LassoCV Model"
      ],
      "metadata": {
        "id": "O6-bmNOd4gUS"
      }
    },
    {
      "cell_type": "code",
      "source": [
        "model_lassoCV = LassoCV(cv=5, normalize=False) #don't need to normalize again\n",
        "model_lassoCV.fit(scaler.transform(X_train), y_train) # transform X_train"
      ],
      "metadata": {
        "colab": {
          "base_uri": "https://localhost:8080/"
        },
        "id": "czHu3mVk4jgW",
        "outputId": "3a944fec-a491-4718-d84a-f92556323cbf"
      },
      "execution_count": 90,
      "outputs": [
        {
          "output_type": "stream",
          "name": "stderr",
          "text": [
            "/usr/local/lib/python3.7/dist-packages/sklearn/linear_model/_base.py:155: FutureWarning: 'normalize' was deprecated in version 1.0 and will be removed in 1.2. Please leave the normalize parameter to its default value to silence this warning. The default behavior of this estimator is to not do any normalization. If normalization is needed please use sklearn.preprocessing.StandardScaler instead.\n",
            "  FutureWarning,\n"
          ]
        },
        {
          "output_type": "execute_result",
          "data": {
            "text/plain": [
              "LassoCV(cv=5, normalize=False)"
            ]
          },
          "metadata": {},
          "execution_count": 90
        }
      ]
    },
    {
      "cell_type": "code",
      "source": [
        "y_hat_test = model_lassoCV.predict(scaler.transform((X_test)))\n",
        "metrics.mean_squared_error(y_true=y_test, y_pred=y_hat_test)"
      ],
      "metadata": {
        "colab": {
          "base_uri": "https://localhost:8080/"
        },
        "id": "HC9pdZ3L4tiS",
        "outputId": "e3c7ef35-e7ab-450b-bf0d-bd97dc197fd9"
      },
      "execution_count": 91,
      "outputs": [
        {
          "output_type": "execute_result",
          "data": {
            "text/plain": [
              "3272.9540482321663"
            ]
          },
          "metadata": {},
          "execution_count": 91
        }
      ]
    },
    {
      "cell_type": "code",
      "source": [
        "model_lassoLarsIC = linear_model.LassoLarsIC(criterion='bic') #don't need to normalize again\n",
        "model_lassoLarsIC.fit(scaler.transform(X_train), y_train) # transform X_train"
      ],
      "metadata": {
        "colab": {
          "base_uri": "https://localhost:8080/"
        },
        "id": "qvlPM6jg446o",
        "outputId": "7ff288ea-4aab-422d-e908-5662551e6173"
      },
      "execution_count": 92,
      "outputs": [
        {
          "output_type": "stream",
          "name": "stderr",
          "text": [
            "/usr/local/lib/python3.7/dist-packages/sklearn/linear_model/_base.py:138: FutureWarning: The default of 'normalize' will be set to False in version 1.2 and deprecated in version 1.4.\n",
            "If you wish to scale the data, use Pipeline with a StandardScaler in a preprocessing stage. To reproduce the previous behavior:\n",
            "\n",
            "from sklearn.pipeline import make_pipeline\n",
            "\n",
            "model = make_pipeline(StandardScaler(with_mean=False), LassoLarsIC())\n",
            "\n",
            "If you wish to pass a sample_weight parameter, you need to pass it as a fit parameter to each step of the pipeline as follows:\n",
            "\n",
            "kwargs = {s[0] + '__sample_weight': sample_weight for s in model.steps}\n",
            "model.fit(X, y, **kwargs)\n",
            "\n",
            "Set parameter alpha to: original_alpha * np.sqrt(n_samples). \n",
            "  FutureWarning,\n"
          ]
        },
        {
          "output_type": "execute_result",
          "data": {
            "text/plain": [
              "LassoLarsIC(criterion='bic')"
            ]
          },
          "metadata": {},
          "execution_count": 92
        }
      ]
    },
    {
      "cell_type": "markdown",
      "source": [
        "LassoIC Model"
      ],
      "metadata": {
        "id": "NvdwpjnV5GTY"
      }
    },
    {
      "cell_type": "code",
      "source": [
        "y_hat_test1 = model_lassoLarsIC.predict(scaler.transform((X_test))) \n",
        "metrics.mean_squared_error(y_true=y_test, y_pred=y_hat_test1)"
      ],
      "metadata": {
        "colab": {
          "base_uri": "https://localhost:8080/"
        },
        "id": "5wX4UDHf5ITl",
        "outputId": "459e98ab-ac74-4350-fbd3-f818cfd78c3c"
      },
      "execution_count": 93,
      "outputs": [
        {
          "output_type": "execute_result",
          "data": {
            "text/plain": [
              "3275.105377521776"
            ]
          },
          "metadata": {},
          "execution_count": 93
        }
      ]
    },
    {
      "cell_type": "markdown",
      "source": [
        "Full Model"
      ],
      "metadata": {
        "id": "BbiZBtKv5UZM"
      }
    },
    {
      "cell_type": "code",
      "source": [
        "ols1=LinearRegression()\n",
        "ols1.fit(scaler.transform(X_train), y_train)"
      ],
      "metadata": {
        "colab": {
          "base_uri": "https://localhost:8080/"
        },
        "id": "hXwdse4g5WRA",
        "outputId": "938675f3-8d2b-4325-8b20-64319511dd14"
      },
      "execution_count": 94,
      "outputs": [
        {
          "output_type": "execute_result",
          "data": {
            "text/plain": [
              "LinearRegression()"
            ]
          },
          "metadata": {},
          "execution_count": 94
        }
      ]
    },
    {
      "cell_type": "code",
      "source": [
        "yp=ols1.predict(scaler.transform((X_test))) "
      ],
      "metadata": {
        "id": "t1N_5riy5dQX"
      },
      "execution_count": 95,
      "outputs": []
    },
    {
      "cell_type": "code",
      "source": [
        "metrics.mean_squared_error(y_true=y_test, y_pred=yp)"
      ],
      "metadata": {
        "colab": {
          "base_uri": "https://localhost:8080/"
        },
        "id": "Ud_o9tPh5eIQ",
        "outputId": "9c40a89e-63d9-48da-836d-44b96df1d81c"
      },
      "execution_count": 96,
      "outputs": [
        {
          "output_type": "execute_result",
          "data": {
            "text/plain": [
              "3448.22492820034"
            ]
          },
          "metadata": {},
          "execution_count": 96
        }
      ]
    },
    {
      "cell_type": "markdown",
      "source": [
        "Solution : Observe MSE Values, LassoCV is the best model"
      ],
      "metadata": {
        "id": "JopdG1ip7v3p"
      }
    }
  ]
}