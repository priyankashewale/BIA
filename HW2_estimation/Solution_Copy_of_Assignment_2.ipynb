{
  "nbformat": 4,
  "nbformat_minor": 0,
  "metadata": {
    "colab": {
      "name": "Solution_Copy_of_Assignment_2.ipynb",
      "provenance": [],
      "collapsed_sections": []
    },
    "kernelspec": {
      "name": "python3",
      "display_name": "Python 3.7  ('base': conda)"
    },
    "language_info": {
      "name": "python",
      "version": "3.7",
      "mimetype": "text/x-python",
      "codemirror_mode": {
        "name": "ipython",
        "version": 3
      },
      "pygments_lexer": "ipython3",
      "nbconvert_exporter": "python",
      "file_extension": ".py"
    },
    "interpreter": {
      "hash": "dc99e0612049eb9171e9aad7f8dc04962fa7dfa02942ff09fb19aa684a3e1395"
    }
  },
  "cells": [
    {
      "cell_type": "code",
      "metadata": {
        "id": "6I-FUEg3KzUa",
        "colab": {
          "base_uri": "https://localhost:8080/"
        },
        "outputId": "a4451693-5755-46b9-967e-cecb8f438b6b"
      },
      "source": [
        "# import packages\n",
        "import numpy as np\n",
        "import pandas as pd\n",
        "\n",
        "from scipy.optimize import minimize\n",
        "from scipy.optimize import fsolve\n",
        "import scipy.stats as stats\n",
        "\n",
        "import statsmodels.api as sm\n",
        "import matplotlib.pyplot as plt\n",
        "from functools import partial\n",
        "\n",
        "import warnings\n",
        "warnings.filterwarnings(\"ignore\")"
      ],
      "execution_count": 1,
      "outputs": [
        {
          "output_type": "stream",
          "name": "stderr",
          "text": [
            "/usr/local/lib/python3.7/dist-packages/statsmodels/tools/_testing.py:19: FutureWarning: pandas.util.testing is deprecated. Use the functions in the public API at pandas.testing instead.\n",
            "  import pandas.util.testing as tm\n"
          ]
        }
      ]
    },
    {
      "cell_type": "markdown",
      "metadata": {
        "id": "-Ie4NMuzKzUd"
      },
      "source": [
        "Use Python to answer the following questions. Show the code and provide complete sentences as your answers. Submit the .ipynb to Canvas. "
      ]
    },
    {
      "cell_type": "markdown",
      "metadata": {
        "id": "6cFadX9lKzUe"
      },
      "source": [
        "# Q1"
      ]
    },
    {
      "cell_type": "markdown",
      "metadata": {
        "id": "7P6C8fHmKzUe"
      },
      "source": [
        "If the weekly sales quantity of a product follows a Normal distribution with $\\mu = 100$ and $\\sigma = 10$.\n",
        "\n",
        "a) What is the probalitiy that the sales quantity is between 90 and 95 in a week?   \n",
        "b) What is the minimum quantity the manager should keep in the inventory at the start of a week so that the probability of stockout (sales greater than inventory) is less than 10%?"
      ]
    },
    {
      "cell_type": "code",
      "source": [
        "# Solution fo 1. a) What is the probalitiy that the sales quantity is between 90 and 95 in a week?\n",
        "from scipy.special import ndtr as ndtr\n",
        "import pandas as pd\n",
        "np.random.seed (8)\n",
        "\n",
        "import random\n",
        "\n",
        "mu,sig=100,10 # given parameters\n",
        "high=95         #probalitiy that the sales quantity is between 90 and 95 in a week, so\n",
        "low=90\n",
        "\n",
        "highScore=(high-mu)/sig\n",
        "lowScore=(low-mu)/sig\n",
        "\n",
        "norm_dist = np.random.normal(mu, sig, high)"
      ],
      "metadata": {
        "id": "l6fjjbtNvlRz"
      },
      "execution_count": 5,
      "outputs": []
    },
    {
      "cell_type": "code",
      "source": [
        "prob1=1-ndtr(highScore)\n",
        "prob2=1-ndtr(lowScore)\n",
        "prob=prob2-prob1\n",
        "\n",
        "print (\"Probalitiy that the sales quantity is between 90 and 95 in a week is \",prob)"
      ],
      "metadata": {
        "colab": {
          "base_uri": "https://localhost:8080/"
        },
        "id": "OCTnYw_FvxXa",
        "outputId": "2d38ea12-d865-492e-8962-277b99518f67"
      },
      "execution_count": 6,
      "outputs": [
        {
          "output_type": "stream",
          "name": "stdout",
          "text": [
            "Probalitiy that the sales quantity is between 90 and 95 in a week is  0.1498822847945298\n"
          ]
        }
      ]
    },
    {
      "cell_type": "code",
      "source": [
        "#Solution for 1. b) What is the minimum quantity the manager should keep in the inventory at the start of a week so that the probability of stockout (sales greater than inventory) is less than 10%?\n",
        "mean = 100\n",
        "inventory_quantity= 0.9*mean\n",
        "print(\"minimum quantity the manager should keep in the inventory is \",inventory_quantity)"
      ],
      "metadata": {
        "colab": {
          "base_uri": "https://localhost:8080/"
        },
        "id": "_AGf8WJ9x0Rd",
        "outputId": "1b8bfea8-14f3-469a-ca6e-f6657c2c2665"
      },
      "execution_count": 7,
      "outputs": [
        {
          "output_type": "stream",
          "name": "stdout",
          "text": [
            "minimum quantity the manager should keep in the inventory is  90.0\n"
          ]
        }
      ]
    },
    {
      "cell_type": "markdown",
      "metadata": {
        "id": "j3DUBAkzKzUe"
      },
      "source": [
        "# Q2\n",
        "Suppose that in Hoboken, the number of traffic accidents can be approximated by a Poisson distribution with λ = 2.5 per month. \n",
        "\n",
        "a) What is the probability of five or more than five traffic accidents in one month?   \n",
        "b) What is the median number of traffic accidents in one month?"
      ]
    },
    {
      "cell_type": "code",
      "source": [
        "# Solution for 2 a) What is the probability of five or more than five traffic accidents in one month?\n",
        "\n",
        "\n",
        "from scipy.stats import poisson\n",
        "# given lmbda = 2.5  \n",
        "prob =1-poisson.pmf(k=5,mu=2.5)\n",
        "print(\"The probability of five or more than five traffic accidents in one month is \",prob)"
      ],
      "metadata": {
        "colab": {
          "base_uri": "https://localhost:8080/"
        },
        "id": "VPPK4xpHzLPH",
        "outputId": "612d022b-3fc6-451d-c839-0dc6892ab958"
      },
      "execution_count": 8,
      "outputs": [
        {
          "output_type": "stream",
          "name": "stdout",
          "text": [
            "The probability of five or more than five traffic accidents in one month is  0.9331990571094573\n"
          ]
        }
      ]
    },
    {
      "cell_type": "code",
      "source": [
        "# Solution for 2 b) What is the median number of traffic accidents in one month?\n",
        "mu=2.5\n",
        "results_1 = stats.poisson.ppf(0.5, mu = 2.5)\n",
        "stats.poisson.cdf(2, mu = 2.5)\n"
      ],
      "metadata": {
        "colab": {
          "base_uri": "https://localhost:8080/"
        },
        "id": "LQZJX-e61EHp",
        "outputId": "042f2805-4d7c-4eff-a03e-2c4ec64430db"
      },
      "execution_count": 9,
      "outputs": [
        {
          "output_type": "execute_result",
          "data": {
            "text/plain": [
              "0.5438131158833297"
            ]
          },
          "metadata": {},
          "execution_count": 9
        }
      ]
    },
    {
      "cell_type": "code",
      "source": [
        "print(\"When cdf(poisson) is calculated for\",results_1,\"which is the middle sample,it does not yield a 50% beacuse poisson distribution deals with discrete values.So, the median number of traffic accidents in one month is: \", results_1)\n",
        "results_1"
      ],
      "metadata": {
        "colab": {
          "base_uri": "https://localhost:8080/"
        },
        "id": "fheet9g34ZGq",
        "outputId": "480bd838-4e26-40bb-c1f7-a59ceb490b79"
      },
      "execution_count": 10,
      "outputs": [
        {
          "output_type": "stream",
          "name": "stdout",
          "text": [
            "When cdf(poisson) is calculated for 2.0 which is the middle sample,it does not yield a 50% beacuse poisson distribution deals with discrete values.So, the median number of traffic accidents in one month is:  2.0\n"
          ]
        },
        {
          "output_type": "execute_result",
          "data": {
            "text/plain": [
              "2.0"
            ]
          },
          "metadata": {},
          "execution_count": 10
        }
      ]
    },
    {
      "cell_type": "markdown",
      "metadata": {
        "id": "Rl4OIl0XKzUf"
      },
      "source": [
        "# Q3."
      ]
    },
    {
      "cell_type": "markdown",
      "metadata": {
        "id": "SgX29NurKzUf"
      },
      "source": [
        "Assuming that the following data (raw_data_hw) is generated by a Beta distribution, find the MLE for a and b.\n",
        "\n",
        "Hints: \n",
        "1. You need to use the [scipy.stats.beta class](https://docs.scipy.org/doc/scipy/reference/generated/scipy.stats.beta.html).  \n",
        "2. The 'true' parameters are a = 4, b = 2. You estimates shouldn't be far off. "
      ]
    },
    {
      "cell_type": "code",
      "metadata": {
        "id": "Zmy5ogHRKzUg",
        "outputId": "4a497392-6816-408c-a792-81a4db4be0f5",
        "colab": {
          "base_uri": "https://localhost:8080/",
          "height": 268
        }
      },
      "source": [
        "raw_data_hw = np.loadtxt('https://fmai-teaching.s3.amazonaws.com/bia652/est/b.txt')\n",
        "histogram = plt.hist(raw_data_hw, bins=20)"
      ],
      "execution_count": 11,
      "outputs": [
        {
          "output_type": "display_data",
          "data": {
            "image/png": "[encoded data removed]",
            "text/plain": [
              "<Figure size 432x288 with 1 Axes>"
            ]
          },
          "metadata": {
            "needs_background": "light"
          }
        }
      ]
    },
    {
      "cell_type": "code",
      "source": [
        "raw_data_hw"
      ],
      "metadata": {
        "id": "WIzM0pEF5LqG"
      },
      "execution_count": null,
      "outputs": []
    },
    {
      "cell_type": "code",
      "source": [
        "def negLL_beta(params, raw_data): # how likely is it that the model generates the required data\n",
        "    \n",
        "    alpha, beta = params[0], params[1]\n",
        "    LL = np.sum(stats.beta.logpdf(raw_data, alpha, beta)) \n",
        "    negLL = -LL\n",
        "    #logpdf(x, a, b, loc=0, scale=1)\n",
        "    #\n",
        "    return(negLL)"
      ],
      "metadata": {
        "id": "c-C0tMIl5RU0"
      },
      "execution_count": 12,
      "outputs": []
    },
    {
      "cell_type": "code",
      "source": [
        "result = minimize(partial(negLL_beta, raw_data=raw_data_hw), x0 = (0, 1), method = 'Nelder-Mead', options={'disp': True})\n",
        "\n",
        "print(\"\\n\",\n",
        "      \"The parameters we get of beta distribution data from MLE are: \", \"\\n\", \n",
        "      \"So Estimated alpha: \",result['x'][0],\", beta : \",result['x'][1], \"\\n\",\n",
        "      \"is close to actual alpha : 4, beta: 2\") "
      ],
      "metadata": {
        "colab": {
          "base_uri": "https://localhost:8080/"
        },
        "id": "HGil9Sbp7kcU",
        "outputId": "061915fa-0700-48f3-be63-eb2a6b2caf50"
      },
      "execution_count": 14,
      "outputs": [
        {
          "output_type": "stream",
          "name": "stdout",
          "text": [
            "Optimization terminated successfully.\n",
            "         Current function value: -365.424546\n",
            "         Iterations: 73\n",
            "         Function evaluations: 136\n",
            "\n",
            " The parameters we get of beta distribution data from MLE are:  \n",
            " So Estimated alpha:  4.080323146060941 , beta :  2.093581799333127 \n",
            " is close to actual alpha : 4, beta: 2\n"
          ]
        }
      ]
    }
  ]
}