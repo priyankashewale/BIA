{
  "nbformat": 4,
  "nbformat_minor": 0,
  "metadata": {
    "colab": {
      "name": "Pandas_Tutorial.ipynb",
      "provenance": [],
      "collapsed_sections": [],
      "toc_visible": true
    },
    "kernelspec": {
      "display_name": "Python 3",
      "language": "python",
      "name": "python3"
    },
    "language_info": {
      "codemirror_mode": {
        "name": "ipython",
        "version": 3
      },
      "file_extension": ".py",
      "mimetype": "text/x-python",
      "name": "python",
      "nbconvert_exporter": "python",
      "pygments_lexer": "ipython3",
      "version": "3.7.1"
    },
    "toc": {
      "base_numbering": 1,
      "nav_menu": {},
      "number_sections": true,
      "sideBar": true,
      "skip_h1_title": false,
      "title_cell": "Table of Contents",
      "title_sidebar": "Contents",
      "toc_cell": false,
      "toc_position": {
        "height": "calc(100% - 180px)",
        "left": "10px",
        "top": "150px",
        "width": "246.975px"
      },
      "toc_section_display": true,
      "toc_window_display": true
    }
  },
  "cells": [
    {
      "cell_type": "code",
      "metadata": {
        "id": "ZrS7bMG8IQpC"
      },
      "source": [
        "import numpy as np #numerical computation\n",
        "import pandas as pd #processing dataframes"
      ],
      "execution_count": 1,
      "outputs": []
    },
    {
      "cell_type": "markdown",
      "metadata": {
        "id": "oNb582CML2Bx"
      },
      "source": [
        "Show keyboard shortcuts in Google Colab:\n",
        "Ctrl/⌘ + M + H"
      ]
    },
    {
      "cell_type": "code",
      "metadata": {
        "id": "0z2dSaV-kEg7"
      },
      "source": [
        "# Download example data set\n",
        "import urllib.request\n",
        "from zipfile import ZipFile\n",
        "\n",
        "urllib.request.urlretrieve(\"http://fengmai.net/download/data/bia652/pandas_data.zip\", \n",
        "                           \"pandas_data.zip\")\n",
        "ZipFile(\"pandas_data.zip\").extractall()"
      ],
      "execution_count": 2,
      "outputs": []
    },
    {
      "cell_type": "markdown",
      "metadata": {
        "id": "dxow5ikbIQpL"
      },
      "source": [
        "# Pandas Tutorials"
      ]
    },
    {
      "cell_type": "markdown",
      "metadata": {
        "id": "wZtKll6okEg_"
      },
      "source": [
        "## Things to remember about pandas\n",
        "* There are multiple (perhaps too many) ways to do simple things in pandas. Take note of the way that is most clear to you.\n",
        "* Pandas functions rely heavily on the index (both row and column, especially row). This is very different from R or SAS.\n",
        "* DataFrame and Series behave differently.\n",
        "* Pandas functions rarely modify a dataframe in place ([see here](https://pandas.pydata.org/pandas-docs/stable/user_guide/basics.html#copying)). Most functions return a copy of the dataframe that you need to assign back to a variable.\n",
        "* Pandas has evolved. Older tutorials may no longer be the best practice. Always [check the offical documentation](https://pandas.pydata.org/pandas-docs/stable/user_guide/index.html)."
      ]
    },
    {
      "cell_type": "code",
      "metadata": {
        "id": "HkSGa6PlIQpN"
      },
      "source": [
        "df = pd.read_csv('data/RegularSeasonCompactResults.csv')"
      ],
      "execution_count": 3,
      "outputs": []
    },
    {
      "cell_type": "markdown",
      "metadata": {
        "id": "Ne9j6tIYIQpP"
      },
      "source": [
        "This file identifies the game-by-game results for 31 seasons of historical NCAA basketball data, from 1985 to 2015. Each year, it includes all games played from daynum 0 through 132 (which by definition is \"Selection Sunday,\" the day that tournament pairings are announced). Each row in the file represents a single game played.\n",
        "\n",
        "- \"season\" - this is the year of the associated entry in seasons.csv (the year in which the final tournament occurs)\n",
        "\n",
        "- \"daynum\" - this integer always ranges from 0 to 132, and tells you what day the game was played on. It represents an offset from the \"dayzero\" date in the \"seasons.csv\" file. For example, the first game in the file was daynum=20. Combined with the fact from the \"season.csv\" file that day zero was 10/29/1984, that means the first game was played 20 days later, or 11/18/1984. There are no teams that ever played more than one game on a given date, so you can use this fact if you need a unique key. In order to accomplish this uniqueness, we had to adjust one game's date. In March 2008, the SEC postseason tournament had to reschedule one game (Georgia-Kentucky) to a subsequent day, so Georgia had to actually play two games on the same day. In order to enforce this uniqueness, we moved the game date for the Georgia-Kentucky game back to its original date.\n",
        "\n",
        "- \"wteam\" - this identifies the id number of the team that won the game, as listed in the \"teams.csv\" file. No matter whether the game was won by the home team or visiting team, \"wteam\" always identifies the winning team.\n",
        "\n",
        "- \"wscore\" - this identifies the number of points scored by the winning team.\n",
        "\n",
        "- \"lteam\" - this identifies the id number of the team that lost the game.\n",
        "\n",
        "- \"lscore\" - this identifies the number of points scored by the losing team.\n",
        "\n",
        "- \"numot\" - this indicates the number of overtime periods in the game, an integer 0 or higher.\n",
        "\n",
        "- \"wloc\" - this identifies the \"location\" of the winning team. If the winning team was the home team, this value will be \"H\". If the winning team was the visiting team, this value will be \"A\". If it was played on a neutral court, then this value will be \"N\". Sometimes it is unclear whether the site should be considered neutral, since it is near one team's home court, or even on their court during a tournament, but for this determination we have simply used the Kenneth Massey data in its current state, where the \"@\" sign is either listed with the winning team, the losing team, or neither team.\n"
      ]
    },
    {
      "cell_type": "markdown",
      "metadata": {
        "id": "qPOAYbgSIQpQ"
      },
      "source": [
        "## The Basics"
      ]
    },
    {
      "cell_type": "markdown",
      "metadata": {
        "id": "IP9lzW9LIQpR"
      },
      "source": [
        "Now that we have our dataframe in our variable df, let's look at what it contains. We can use the function **head()** to see the first couple rows of the dataframe (or the function **tail()** to see the last few rows). We can use `sample()` to look at a few random rows."
      ]
    },
    {
      "cell_type": "code",
      "metadata": {
        "id": "9H_va7G1IQpR"
      },
      "source": [
        "df.head()"
      ],
      "execution_count": null,
      "outputs": []
    },
    {
      "cell_type": "code",
      "metadata": {
        "id": "nilD0hizIQpT"
      },
      "source": [
        "df.tail()"
      ],
      "execution_count": null,
      "outputs": []
    },
    {
      "cell_type": "code",
      "metadata": {
        "id": "Vk7VW8D4IQpV"
      },
      "source": [
        "df.sample(5)"
      ],
      "execution_count": null,
      "outputs": []
    },
    {
      "cell_type": "markdown",
      "metadata": {
        "id": "P-C4ihtMIQpX"
      },
      "source": [
        "We can see the dimensions of the dataframe using the the **shape** attribute"
      ]
    },
    {
      "cell_type": "code",
      "metadata": {
        "id": "yKEvfICxIQpY"
      },
      "source": [
        "df.shape"
      ],
      "execution_count": null,
      "outputs": []
    },
    {
      "cell_type": "markdown",
      "metadata": {
        "id": "xEmetC5IIQpa"
      },
      "source": [
        "`len()` gives the number of rows. You can also use `df.shape[0]`."
      ]
    },
    {
      "cell_type": "code",
      "metadata": {
        "id": "q9nJ34B9jnRD"
      },
      "source": [
        "df.shape[1]"
      ],
      "execution_count": null,
      "outputs": []
    },
    {
      "cell_type": "code",
      "metadata": {
        "id": "oAU34XRsIQpa"
      },
      "source": [
        "len(df)"
      ],
      "execution_count": null,
      "outputs": []
    },
    {
      "cell_type": "markdown",
      "metadata": {
        "id": "i83TWVMNIQpc"
      },
      "source": [
        "We can also extract all the column names as a list, by using the **columns** attribute and can extract the rows with the **index** attribute"
      ]
    },
    {
      "cell_type": "code",
      "metadata": {
        "id": "nVbagD7dj4qA"
      },
      "source": [
        "df.columns"
      ],
      "execution_count": null,
      "outputs": []
    },
    {
      "cell_type": "code",
      "metadata": {
        "id": "Va1gufCEIQpd"
      },
      "source": [
        "df.columns.tolist()"
      ],
      "execution_count": null,
      "outputs": []
    },
    {
      "cell_type": "code",
      "metadata": {
        "id": "bNrVeiN9kEhY"
      },
      "source": [
        "df.info()"
      ],
      "execution_count": null,
      "outputs": []
    },
    {
      "cell_type": "code",
      "metadata": {
        "id": "SC7vljO5kEha"
      },
      "source": [
        "df['Wloc'] = df['Wloc'].astype(\"category\") "
      ],
      "execution_count": null,
      "outputs": []
    },
    {
      "cell_type": "markdown",
      "metadata": {
        "id": "5k2WTQBZkEhd"
      },
      "source": [
        "Should you use category or string?"
      ]
    },
    {
      "cell_type": "code",
      "metadata": {
        "id": "66UZx4rpkEhd"
      },
      "source": [
        "df['Wloc'].astype(\"string\").nbytes"
      ],
      "execution_count": null,
      "outputs": []
    },
    {
      "cell_type": "code",
      "metadata": {
        "id": "b2dvqoZmkEhf"
      },
      "source": [
        "df['Wloc'].astype(\"category\").nbytes"
      ],
      "execution_count": null,
      "outputs": []
    },
    {
      "cell_type": "markdown",
      "metadata": {
        "id": "9Ok816neIQpe"
      },
      "source": [
        "In order to get a better idea of the type of data that we are dealing with, we can call the **describe()** function to see statistics like mean, min, etc about each column of the dataset. "
      ]
    },
    {
      "cell_type": "code",
      "metadata": {
        "id": "pM4zB0EgIQpf"
      },
      "source": [
        "df.describe()"
      ],
      "execution_count": null,
      "outputs": []
    },
    {
      "cell_type": "code",
      "metadata": {
        "id": "MRwrL54vkEhl"
      },
      "source": [
        "df.Wloc.describe()"
      ],
      "execution_count": null,
      "outputs": []
    },
    {
      "cell_type": "code",
      "metadata": {
        "id": "WY8jN2c7AAxW"
      },
      "source": [
        "df.Wloc.value_counts()"
      ],
      "execution_count": null,
      "outputs": []
    },
    {
      "cell_type": "markdown",
      "metadata": {
        "id": "t1TgRargIQph"
      },
      "source": [
        "Okay, so now let's looking at information that we want to extract from the dataframe. Let's say I wanted to know the max value of a certain column. The function **max()** will show you the maximum values of all columns"
      ]
    },
    {
      "cell_type": "code",
      "metadata": {
        "id": "wHv6iBPZIQph"
      },
      "source": [
        "df.count()"
      ],
      "execution_count": null,
      "outputs": []
    },
    {
      "cell_type": "markdown",
      "metadata": {
        "id": "dz-8C6SXIQpk"
      },
      "source": [
        "Then, if you'd like to specifically get the max value for a particular column, you pass in the name of the column using the bracket indexing operator"
      ]
    },
    {
      "cell_type": "code",
      "metadata": {
        "id": "r5tvl3iLkqDn"
      },
      "source": [
        "df['Wscore'] #series"
      ],
      "execution_count": null,
      "outputs": []
    },
    {
      "cell_type": "code",
      "metadata": {
        "id": "duox5NCFAPid"
      },
      "source": [
        "df.Wscore"
      ],
      "execution_count": null,
      "outputs": []
    },
    {
      "cell_type": "code",
      "metadata": {
        "id": "-pG0m1cAIQpl"
      },
      "source": [
        "df['Wscore'].max()"
      ],
      "execution_count": null,
      "outputs": []
    },
    {
      "cell_type": "markdown",
      "metadata": {
        "id": "MktBzXfoIQpn"
      },
      "source": [
        "If you'd like to find the mean of the Losing teams' score. "
      ]
    },
    {
      "cell_type": "code",
      "metadata": {
        "id": "bw9SRWlHIQpo"
      },
      "source": [
        "df['Lscore'].mean()"
      ],
      "execution_count": null,
      "outputs": []
    },
    {
      "cell_type": "markdown",
      "metadata": {
        "id": "VqlVvX-aIQpq"
      },
      "source": [
        "But what if that's not enough? Let's say we want to actually see the game(row) where this max score happened. We can call the **idxmax()** function to identify the row index."
      ]
    },
    {
      "cell_type": "code",
      "metadata": {
        "id": "KviT-fSmIQpq"
      },
      "source": [
        "df['Wscore'].idxmax()"
      ],
      "execution_count": null,
      "outputs": []
    },
    {
      "cell_type": "markdown",
      "metadata": {
        "id": "iJNpUwCyIQpt"
      },
      "source": [
        "One of the most useful functions that you can call on certain columns in a dataframe is the **value_counts()** function. It shows how many times each item appears in the column. This particular command shows the number of games in each season"
      ]
    },
    {
      "cell_type": "code",
      "metadata": {
        "id": "8Ui7oExiIQpu"
      },
      "source": [
        "df['Season'].value_counts().head()"
      ],
      "execution_count": null,
      "outputs": []
    },
    {
      "cell_type": "markdown",
      "metadata": {
        "id": "Jnq6g8s6IQq3"
      },
      "source": [
        "## Dataframe Iteration"
      ]
    },
    {
      "cell_type": "markdown",
      "metadata": {
        "id": "65OcoV1QIQq4"
      },
      "source": [
        "In order to iterate through rows in a dataframe, we can use the `iterrows()` or `itertuples()` function. Note that the returned data types are different. \n",
        "\n",
        "**You should never modify something you are iterating over. This is not guaranteed to work.**"
      ]
    },
    {
      "cell_type": "code",
      "metadata": {
        "id": "vLaGuIzUIQq4"
      },
      "source": [
        "for index, row in df.iterrows():\n",
        "    print(row)\n",
        "    print(type(row))\n",
        "    if index == 2: # print the first 3 rows\n",
        "        break"
      ],
      "execution_count": null,
      "outputs": []
    },
    {
      "cell_type": "code",
      "metadata": {
        "id": "ogglS1wBIQq6"
      },
      "source": [
        "for index, row in enumerate(df.itertuples()):\n",
        "    print(row)\n",
        "    print(type(row))\n",
        "    if index == 2:\n",
        "        break"
      ],
      "execution_count": null,
      "outputs": []
    },
    {
      "cell_type": "markdown",
      "metadata": {
        "id": "z7W-clQbIQpw"
      },
      "source": [
        "## Acessing Values: [[]], loc, iloc"
      ]
    },
    {
      "cell_type": "markdown",
      "metadata": {
        "id": "gT_-MryoIQpw"
      },
      "source": [
        "The bracket indexing operator is one way to extract certain columns from a dataframe."
      ]
    },
    {
      "cell_type": "code",
      "metadata": {
        "id": "nt_Xyyj_IQpx",
        "scrolled": true
      },
      "source": [
        "subset_df = df[['Wscore', 'Lscore']]"
      ],
      "execution_count": null,
      "outputs": []
    },
    {
      "cell_type": "code",
      "metadata": {
        "id": "VNCDdwpckEiD"
      },
      "source": [
        "subset_df.head()"
      ],
      "execution_count": null,
      "outputs": []
    },
    {
      "cell_type": "markdown",
      "metadata": {
        "id": "mWdReZz3IQp0"
      },
      "source": [
        "Note the difference is the return types when you use brackets and when you use double brackets. "
      ]
    },
    {
      "cell_type": "code",
      "metadata": {
        "id": "vvkKxXj-IQp1"
      },
      "source": [
        "type(df['Wscore'])"
      ],
      "execution_count": null,
      "outputs": []
    },
    {
      "cell_type": "markdown",
      "metadata": {
        "id": "9XbWL5gbIQp3"
      },
      "source": [
        "`df.var` is a shortcut for `df[var]`."
      ]
    },
    {
      "cell_type": "code",
      "metadata": {
        "id": "Wv1fll9dIQp4"
      },
      "source": [
        "type(df.Wscore)"
      ],
      "execution_count": null,
      "outputs": []
    },
    {
      "cell_type": "markdown",
      "metadata": {
        "id": "73A_z22GIQp5"
      },
      "source": [
        "Double bracket returns a dataframe with 1 column."
      ]
    },
    {
      "cell_type": "code",
      "metadata": {
        "id": "V0XkD0vgIQp6"
      },
      "source": [
        "type(df[['Wscore']])"
      ],
      "execution_count": null,
      "outputs": []
    },
    {
      "cell_type": "markdown",
      "metadata": {
        "id": "DQWf-p8HIQp8"
      },
      "source": [
        "You've seen before that you can access columns through df['col name']. You can access rows by using slicing operations.   \n",
        "**This is not recommended because it leads to confusion on whether you are slicing row index or row numbers.**"
      ]
    },
    {
      "cell_type": "code",
      "metadata": {
        "id": "PtGZ401amab8"
      },
      "source": [
        "for x in range(0, 3):\n",
        "  print(x)"
      ],
      "execution_count": null,
      "outputs": []
    },
    {
      "cell_type": "code",
      "metadata": {
        "id": "7VyLoIMIIQp9"
      },
      "source": [
        "df[0:3] #### DO NOT USE THIS NOTATION "
      ],
      "execution_count": null,
      "outputs": []
    },
    {
      "cell_type": "markdown",
      "metadata": {
        "id": "lhttENzUIQp-"
      },
      "source": [
        "**It is better to be explicit and use an equivalent iloc, which slices row/col numbers.**"
      ]
    },
    {
      "cell_type": "code",
      "metadata": {
        "id": "Hk7my6tfkEiR"
      },
      "source": [
        "df.iloc[0:3, :]"
      ],
      "execution_count": null,
      "outputs": []
    },
    {
      "cell_type": "code",
      "metadata": {
        "id": "zRyU7NSZIQp_"
      },
      "source": [
        "df.iloc[0:3, [1,3]]"
      ],
      "execution_count": null,
      "outputs": []
    },
    {
      "cell_type": "markdown",
      "metadata": {
        "id": "BzO3nXK1IQqB"
      },
      "source": [
        "Iloc is definitely one of the more important functions. The main idea is that you want to use it whenever you have the integer index of a certain row that you want to access. As per Pandas documentation, iloc is an \"__integer-location based indexing for selection by position.__\""
      ]
    },
    {
      "cell_type": "markdown",
      "metadata": {
        "id": "REwx4XT5IQqD"
      },
      "source": [
        "The other really important function in Pandas is the **loc** function. Contrary to iloc, which is an integer based indexing, loc is a \"__Purely label-location based indexer for selection by label__\". Since all the games are ordered from 0 to 145288, iloc and loc are going to be pretty interchangable in this type of dataset. But __loc allows for accessing both rows and columns using labels__.\n",
        "\n",
        "**VERY IMPORTANT**: \n",
        "\n",
        "**In pandas, index means label. Each row has a label, each col has a label (col names). Row index (label) may not be row numbers, they can be date, ID, time, or any other strings.**"
      ]
    },
    {
      "cell_type": "code",
      "metadata": {
        "id": "kT3nyOH6oLx0"
      },
      "source": [
        "df[['Wscore', 'Lscore']].iloc[0:3, :]"
      ],
      "execution_count": null,
      "outputs": []
    },
    {
      "cell_type": "code",
      "metadata": {
        "id": "NgdPJaHyIQqD"
      },
      "source": [
        "# row index 0-3, col index Wscore and Lscore. \n",
        "df.loc[0:3, ['Wscore', 'Lscore']]"
      ],
      "execution_count": null,
      "outputs": []
    },
    {
      "cell_type": "markdown",
      "metadata": {
        "id": "lkKMRg0iIQqF"
      },
      "source": [
        "Notice the slight difference in that iloc exlcudes the end range (behave like pure Python), while loc is inclusive (behave like database queries). "
      ]
    },
    {
      "cell_type": "code",
      "metadata": {
        "colab": {
          "base_uri": "https://localhost:8080/",
          "height": 81
        },
        "id": "DjitZsExmMCt",
        "outputId": "72442480-b222-455e-e2fb-98eed1e84068"
      },
      "source": [
        "df.loc[[df['Wscore'].idxmax()]] \n",
        "# Which game has the highest Wscore? Note that idxmax() returns the row *label* (not number) of the maximum value of a series. \n",
        "# A prior version of this tutorial incorrectly uses df.iloc[[df['Wscore'].idxmax()]], which leads to a mix-up of row labels and numbers.\n",
        "# In our case, because row labels = row numbers the outputs are the same, \n",
        "# but in other cases it may introduces bugs that are difficult to detect. "
      ],
      "execution_count": 11,
      "outputs": [
        {
          "output_type": "execute_result",
          "data": {
            "text/html": [
              "<div>\n",
              "<style scoped>\n",
              "    .dataframe tbody tr th:only-of-type {\n",
              "        vertical-align: middle;\n",
              "    }\n",
              "\n",
              "    .dataframe tbody tr th {\n",
              "        vertical-align: top;\n",
              "    }\n",
              "\n",
              "    .dataframe thead th {\n",
              "        text-align: right;\n",
              "    }\n",
              "</style>\n",
              "<table border=\"1\" class=\"dataframe\">\n",
              "  <thead>\n",
              "    <tr style=\"text-align: right;\">\n",
              "      <th></th>\n",
              "      <th>Season</th>\n",
              "      <th>Daynum</th>\n",
              "      <th>Wteam</th>\n",
              "      <th>Wscore</th>\n",
              "      <th>Lteam</th>\n",
              "      <th>Lscore</th>\n",
              "      <th>Wloc</th>\n",
              "      <th>Numot</th>\n",
              "    </tr>\n",
              "  </thead>\n",
              "  <tbody>\n",
              "    <tr>\n",
              "      <th>24970</th>\n",
              "      <td>1991</td>\n",
              "      <td>68</td>\n",
              "      <td>1258</td>\n",
              "      <td>186</td>\n",
              "      <td>1109</td>\n",
              "      <td>140</td>\n",
              "      <td>H</td>\n",
              "      <td>0</td>\n",
              "    </tr>\n",
              "  </tbody>\n",
              "</table>\n",
              "</div>"
            ],
            "text/plain": [
              "       Season  Daynum  Wteam  Wscore  Lteam  Lscore Wloc  Numot\n",
              "24970    1991      68   1258     186   1109     140    H      0"
            ]
          },
          "metadata": {},
          "execution_count": 11
        }
      ]
    },
    {
      "cell_type": "markdown",
      "metadata": {
        "id": "HSYOe0gCIQqG"
      },
      "source": [
        "Each dataframe has a **values** attribute which is useful because it basically displays your dataframe in a numpy array style format"
      ]
    },
    {
      "cell_type": "code",
      "metadata": {
        "id": "L345cs0PIQqH"
      },
      "source": [
        "df.Wscore.values"
      ],
      "execution_count": null,
      "outputs": []
    },
    {
      "cell_type": "markdown",
      "metadata": {
        "id": "yFIa4pN5IQqK"
      },
      "source": [
        "Now, you can simply just access elements like you would in an array. "
      ]
    },
    {
      "cell_type": "code",
      "metadata": {
        "id": "85ZDNKuOIQqK"
      },
      "source": [
        "%%timeit\n",
        "df.values[0, 0]"
      ],
      "execution_count": null,
      "outputs": []
    },
    {
      "cell_type": "code",
      "metadata": {
        "id": "6xv2HvOJkEiq"
      },
      "source": [
        "%%timeit\n",
        "df.iloc[0,0]"
      ],
      "execution_count": null,
      "outputs": []
    },
    {
      "cell_type": "code",
      "metadata": {
        "id": "vhleM8eekEit"
      },
      "source": [
        "%%timeit\n",
        "df.iat[0,0]"
      ],
      "execution_count": null,
      "outputs": []
    },
    {
      "cell_type": "markdown",
      "metadata": {
        "id": "uGwCz6nzkEiw"
      },
      "source": [
        "The latter is much faster (test using %%timeit)."
      ]
    },
    {
      "cell_type": "markdown",
      "metadata": {
        "id": "6--1I0-WIQqM"
      },
      "source": [
        "If you'd like to see more discussion on how loc and iloc are different, check out this great Stack Overflow post: http://stackoverflow.com/questions/31593201/pandas-iloc-vs-ix-vs-loc-explanation. Just remember that **iloc looks at integer-based positions** and **loc looks at labels**. Loc becomes very important when your row labels aren't integers. "
      ]
    },
    {
      "cell_type": "markdown",
      "metadata": {
        "id": "jOf4vbGWIQqM"
      },
      "source": [
        "### Sorting"
      ]
    },
    {
      "cell_type": "markdown",
      "metadata": {
        "id": "-PYn89sAIQqN"
      },
      "source": [
        "Let's say that we want to sort the dataframe in increasing order for the scores of the losing team"
      ]
    },
    {
      "cell_type": "code",
      "metadata": {
        "id": "qKUY4bzcIQqN",
        "scrolled": true
      },
      "source": [
        "df.sort_values('Lscore', ascending=False).head()"
      ],
      "execution_count": null,
      "outputs": []
    },
    {
      "cell_type": "markdown",
      "metadata": {
        "id": "FIJQBTOLIQqP"
      },
      "source": [
        "### Filtering Rows Conditionally"
      ]
    },
    {
      "cell_type": "markdown",
      "metadata": {
        "id": "89hbPF7EIQqP"
      },
      "source": [
        "Now, let's say we want to find all of the rows that satisy a particular condition. For example, I want to find all of the games where the winning team scored more than 180 points. The idea behind this command is you want to access the column 'Wscore' of the dataframe df (df['Wscore']). You first create a Boolean mask series (True/False) using `df['Wscore'] > 180`, and then returns only those specific rows (`df[df['Wscore'] > 180]`)."
      ]
    },
    {
      "cell_type": "code",
      "metadata": {
        "id": "4A32270XpeVx"
      },
      "source": [
        "df['Wscore'] > 180"
      ],
      "execution_count": null,
      "outputs": []
    },
    {
      "cell_type": "code",
      "metadata": {
        "id": "8oWzsisWIQqQ"
      },
      "source": [
        "df[df['Wscore'] > 180]"
      ],
      "execution_count": null,
      "outputs": []
    },
    {
      "cell_type": "markdown",
      "metadata": {
        "id": "Ds3tdzrBIQqS"
      },
      "source": [
        "This is equivalent to:"
      ]
    },
    {
      "cell_type": "code",
      "metadata": {
        "id": "AXabtt85IQqS"
      },
      "source": [
        "df.query('Wscore > 180')"
      ],
      "execution_count": null,
      "outputs": []
    },
    {
      "cell_type": "markdown",
      "metadata": {
        "id": "o6A9Un9GIQqU"
      },
      "source": [
        "The df[] is a shortcut for .loc. You can combine the boolean mask with column labels."
      ]
    },
    {
      "cell_type": "code",
      "metadata": {
        "id": "VRdk_0-aIQqV"
      },
      "source": [
        "df.loc[df['Wscore'] > 180, ['Season', 'Wscore', 'Wteam', 'Lteam']]"
      ],
      "execution_count": null,
      "outputs": []
    },
    {
      "cell_type": "code",
      "metadata": {
        "id": "7lJLTfJiEpld"
      },
      "source": [
        "df.loc[~(df['Wscore'] > 180), ['Season', 'Wscore', 'Wteam', 'Lteam']] # NOT"
      ],
      "execution_count": null,
      "outputs": []
    },
    {
      "cell_type": "markdown",
      "metadata": {
        "id": "XbXsrYieIQqW"
      },
      "source": [
        "This also works if you have multiple conditions. Let's say we want to find out when the winning team scores more than 150 points and when the losing team scores below 100. "
      ]
    },
    {
      "cell_type": "code",
      "metadata": {
        "id": "lWmUeUaGIQqX"
      },
      "source": [
        "df[(df['Wscore'] > 150) & (df['Lscore'] < 100)] # AND "
      ],
      "execution_count": null,
      "outputs": []
    },
    {
      "cell_type": "code",
      "metadata": {
        "id": "RaKLyNstE70c"
      },
      "source": [
        "df[(df['Wscore'] > 150) & (df['Wloc'].isin(['A','H']))] # AND "
      ],
      "execution_count": null,
      "outputs": []
    },
    {
      "cell_type": "code",
      "metadata": {
        "id": "zm7kJL8EEiR8"
      },
      "source": [
        "df[(df['Wscore'] > 150) | (df['Lscore'] < 100)] # OR"
      ],
      "execution_count": null,
      "outputs": []
    },
    {
      "cell_type": "code",
      "metadata": {
        "id": "2Wd2VwEDIQqY"
      },
      "source": [
        "df.query('Wscore > 150 or Wloc == \"H\"')"
      ],
      "execution_count": null,
      "outputs": []
    },
    {
      "cell_type": "markdown",
      "metadata": {
        "id": "XFiu98mCIQqZ"
      },
      "source": [
        "### Creating New Variables"
      ]
    },
    {
      "cell_type": "markdown",
      "metadata": {
        "id": "5UG0_GDkIQqa"
      },
      "source": [
        "There are multiple ways of creating new varialbes, but we will begin by using *just the indexing operator* (the brackets). Place a string inside of the brackets and make this the left-hand side of the assignment.\n",
        "\n",
        "The right-hand side can consist of any of the following:\n",
        "* A scalar value\n",
        "* A list or array with the same length as the DataFrame\n",
        "* A pandas Series with an index that matches the index of the DataFrame (tricky!)\n",
        "\n",
        "**New column assigned to a scalar value**\n",
        "\n",
        "A **scalar** value is simply one single value, like an integer, string, boolean or date. When using a scalar for column assignment, each value in the column will be the same. Let's create a column **`NO_MEANING`** and assign it the value 99."
      ]
    },
    {
      "cell_type": "code",
      "metadata": {
        "id": "AFDahTFiIQqb"
      },
      "source": [
        "df['NO_MEANING'] = 99\n",
        "df.head()"
      ],
      "execution_count": null,
      "outputs": []
    },
    {
      "cell_type": "code",
      "metadata": {
        "id": "rtxSMXzQIdi4"
      },
      "source": [
        "df.drop(columns=['NO_MEANING'])"
      ],
      "execution_count": null,
      "outputs": []
    },
    {
      "cell_type": "markdown",
      "metadata": {
        "id": "WJYtdL5fIQqe"
      },
      "source": [
        "Instead of creating a new column with all the same values, we can use a list or NumPy array with different values for each row. The only stipulation is that the number of new values in the list/array must be the same as the number of rows in the DataFrame.\n",
        "\n",
        "Let's create the column `BONUS RATE`, with a list of random numbers between 0 and 1."
      ]
    },
    {
      "cell_type": "code",
      "metadata": {
        "id": "L38pgl33IQqf"
      },
      "source": [
        "df['BONUS RATE'] = np.random.uniform(size=df.shape[0])\n",
        "df.head()"
      ],
      "execution_count": null,
      "outputs": []
    },
    {
      "cell_type": "code",
      "metadata": {
        "id": "mNiX9srRJ1O0"
      },
      "source": [
        " np.random.uniform(size=df.shape[0])"
      ],
      "execution_count": null,
      "outputs": []
    },
    {
      "cell_type": "markdown",
      "metadata": {
        "id": "93gmETj2IQqi"
      },
      "source": [
        "__Warning__:  \n",
        "To use a Series (e.g. from another dataframe) to create a new column, the index must match that of the modifying DataFrame. **Be very careful!!**"
      ]
    },
    {
      "cell_type": "markdown",
      "metadata": {
        "id": "DxSKUgOKkEjK"
      },
      "source": [
        "### Creating new values conditionally"
      ]
    },
    {
      "cell_type": "markdown",
      "metadata": {
        "id": "2DNCemxfkEjL"
      },
      "source": [
        "**Warning: Be careful about updating values**\n",
        "The best way to create/update values in a datafram is to assign values to the .iloc or loc querys."
      ]
    },
    {
      "cell_type": "markdown",
      "metadata": {
        "id": "nDDGdawxkEjL"
      },
      "source": [
        "Example: Create a new variable 'high_score' that takes the value of 1 if both winning and losing team scored at least 70. "
      ]
    },
    {
      "cell_type": "code",
      "metadata": {
        "id": "illYWSubkEjL"
      },
      "source": [
        "df['high_score'] = 0"
      ],
      "execution_count": null,
      "outputs": []
    },
    {
      "cell_type": "markdown",
      "metadata": {
        "id": "VutIVVIBkEjO"
      },
      "source": [
        "#### wrong approach #1"
      ]
    },
    {
      "cell_type": "code",
      "metadata": {
        "id": "vdo0QoIjkEjO"
      },
      "source": [
        "high_score_games = df[(df['Wscore'] >= 70) & (df['Lscore'] >= 70)]"
      ],
      "execution_count": null,
      "outputs": []
    },
    {
      "cell_type": "code",
      "metadata": {
        "id": "9OWMJwbTkEjP"
      },
      "source": [
        "high_score_games.head()"
      ],
      "execution_count": null,
      "outputs": []
    },
    {
      "cell_type": "code",
      "metadata": {
        "id": "K00pDhhrkEjS"
      },
      "source": [
        "high_score_games['high_score'] = 1 "
      ],
      "execution_count": null,
      "outputs": []
    },
    {
      "cell_type": "code",
      "metadata": {
        "id": "0c6ZY2_wkEjU"
      },
      "source": [
        "df.head()"
      ],
      "execution_count": null,
      "outputs": []
    },
    {
      "cell_type": "markdown",
      "metadata": {
        "id": "00pqIkmAkEjW"
      },
      "source": [
        "#### wrong approach #2"
      ]
    },
    {
      "cell_type": "code",
      "metadata": {
        "id": "XpfXk5F7kEjW"
      },
      "source": [
        "df[(df['Wscore'] >= 70) & (df['Lscore'] >= 70)]['high_score'] = 1 "
      ],
      "execution_count": null,
      "outputs": []
    },
    {
      "cell_type": "code",
      "metadata": {
        "id": "kORC4G1vkEjY"
      },
      "source": [
        "df.head()"
      ],
      "execution_count": null,
      "outputs": []
    },
    {
      "cell_type": "markdown",
      "metadata": {
        "id": "yvhtaaoNkEja"
      },
      "source": [
        "#### correct approach #1"
      ]
    },
    {
      "cell_type": "code",
      "metadata": {
        "id": "Hk-6JvaTkEja"
      },
      "source": [
        "df.loc[(df['Wscore'] >= 70) & (df['Lscore'] >= 70), 'high_score'] = 1   "
      ],
      "execution_count": null,
      "outputs": []
    },
    {
      "cell_type": "code",
      "metadata": {
        "id": "LIJaf4LukEjc"
      },
      "source": [
        "df.head()"
      ],
      "execution_count": null,
      "outputs": []
    },
    {
      "cell_type": "markdown",
      "metadata": {
        "id": "auCD8zpakEje"
      },
      "source": [
        "#### correct approach #2"
      ]
    },
    {
      "cell_type": "code",
      "metadata": {
        "id": "jKhgDTWFkEje"
      },
      "source": [
        "df['high_score'] = 0"
      ],
      "execution_count": null,
      "outputs": []
    },
    {
      "cell_type": "markdown",
      "metadata": {
        "id": "YlM99dsNLwbK"
      },
      "source": [
        "apply, map, applymap"
      ]
    },
    {
      "cell_type": "code",
      "metadata": {
        "id": "tVIQslAakEjg"
      },
      "source": [
        "df['high_score'] = df.apply(lambda x: 1 if (x['Wscore'] >= 70) & (x['Lscore'] >= 70) else 0, axis = 1) "
      ],
      "execution_count": null,
      "outputs": []
    },
    {
      "cell_type": "code",
      "metadata": {
        "id": "MHWwVetKkEjh"
      },
      "source": [
        "df.head()"
      ],
      "execution_count": null,
      "outputs": []
    },
    {
      "cell_type": "markdown",
      "metadata": {
        "id": "318IhfYVkEjk"
      },
      "source": [
        "#### correct approach #3"
      ]
    },
    {
      "cell_type": "code",
      "metadata": {
        "id": "kG6G8vthkEjk"
      },
      "source": [
        "df['high_score'] = 0\n",
        "df = df.assign(high_score=lambda x: ((x['Wscore'] >= 70) & (x['Lscore'] >= 70)).astype('int'))\n",
        " # note that assign returns a new df"
      ],
      "execution_count": null,
      "outputs": []
    },
    {
      "cell_type": "code",
      "metadata": {
        "id": "tnU1zWkOkEjm"
      },
      "source": [
        "df.head()"
      ],
      "execution_count": null,
      "outputs": []
    },
    {
      "cell_type": "markdown",
      "metadata": {
        "id": "GQkNyidNIQqi"
      },
      "source": [
        "### Create a new column with expressions involving other columns\n",
        "We can create a new column by combining any number of other columns. One primary way of doing that is through a mathematical expression. For instance, let's create a new column **`BONUS`** by multiplying a random **`BONUS RATE`** between 0, 1 and **`Wscore - Lscore`** columns together.\n",
        "\n",
        "Note that `df['Wscore'].sub(df['Lscore'])` is more robust than `df['Wscore'] - df['Lscore']` because it handles missing values well. Similar functions include `add`, `mul`, `div`, `pow`, etc. "
      ]
    },
    {
      "cell_type": "code",
      "metadata": {
        "id": "59jnJSnUIQqj"
      },
      "source": [
        "df['BONUS RATE'] = np.random.uniform(size = len(df))"
      ],
      "execution_count": null,
      "outputs": []
    },
    {
      "cell_type": "code",
      "metadata": {
        "id": "pb3aJxArsD6Q"
      },
      "source": [
        "df['BONUS'] = df['BONUS RATE'] * (df['Wscore'] - df['Lscore'])\n",
        "df.head()"
      ],
      "execution_count": null,
      "outputs": []
    },
    {
      "cell_type": "code",
      "metadata": {
        "id": "pi87XuBJIQqm"
      },
      "source": [
        "df['BONUS'] = df['BONUS RATE'] * (df['Wscore'].sub(df['Lscore']))\n",
        "df.head()"
      ],
      "execution_count": null,
      "outputs": []
    },
    {
      "cell_type": "markdown",
      "metadata": {
        "id": "jBZQnfEpIQqo"
      },
      "source": [
        "Another way to create new columns is to appy a function row wise. The function should take a row as input. Apply is usually slower than the vectorised functions."
      ]
    },
    {
      "cell_type": "code",
      "metadata": {
        "id": "cwHLIvDdIQqp"
      },
      "source": [
        "df['BONUS'] = df.apply(lambda row: row['BONUS RATE'] * (row['Wscore'] - row['Lscore']), axis=1)\n",
        "df.head()\n",
        "\n",
        "\n",
        "def new_var(row):\n",
        "  return row['BONUS RATE'] * (row['Wscore'] - row['Lscore'])\n",
        "\n",
        "df['BONUS'] = df.apply(new_var, axis=1)\n"
      ],
      "execution_count": null,
      "outputs": []
    },
    {
      "cell_type": "markdown",
      "metadata": {
        "id": "zW3VW9FLIQqr"
      },
      "source": [
        "## Group and Aggregate"
      ]
    },
    {
      "cell_type": "markdown",
      "metadata": {
        "id": "-tF55bYLIQqs"
      },
      "source": [
        "Another important function in Pandas is **groupby()**. This is a function that allows you to group entries by certain attributes (e.g Grouping entries by Wteam number) and then perform operations on them. The following function finds the mean Wscore and Lscore for each season. "
      ]
    },
    {
      "cell_type": "code",
      "metadata": {
        "id": "3tYg0SgmwfjX"
      },
      "source": [
        "df.groupby(['Season'])[['Wscore', 'Lscore']].mean().head()"
      ],
      "execution_count": null,
      "outputs": []
    },
    {
      "cell_type": "markdown",
      "metadata": {
        "id": "nNC9qVWRIQqv"
      },
      "source": [
        "This next command groups all the games with the same season and finds where how many times each team won. "
      ]
    },
    {
      "cell_type": "code",
      "metadata": {
        "id": "_f9LDM-fIQqv",
        "scrolled": false
      },
      "source": [
        "df.groupby('Season')['Wteam'].value_counts()"
      ],
      "execution_count": null,
      "outputs": []
    },
    {
      "cell_type": "markdown",
      "metadata": {
        "id": "FD74qUyXkEj1"
      },
      "source": [
        "The above Series has a MultiIndex (2 levels of indicies, Season and Wteam). We can use `loc` to select a year:"
      ]
    },
    {
      "cell_type": "code",
      "metadata": {
        "id": "a02TA42NkEj1"
      },
      "source": [
        "df.groupby('Season')['Wteam'].value_counts().loc[2016]"
      ],
      "execution_count": null,
      "outputs": []
    },
    {
      "cell_type": "markdown",
      "metadata": {
        "id": "WqEWF4OwkEj5"
      },
      "source": [
        "We can use [IndexSlice](https://pandas.pydata.org/pandas-docs/stable/reference/api/pandas.IndexSlice.html) to select a team (e.g., 1385):"
      ]
    },
    {
      "cell_type": "code",
      "metadata": {
        "id": "X7c3u0o5kEj5"
      },
      "source": [
        "df.groupby('Season')['Wteam'].value_counts().loc[pd.IndexSlice[1990:1995, 1385]].plot()"
      ],
      "execution_count": null,
      "outputs": []
    },
    {
      "cell_type": "markdown",
      "metadata": {
        "id": "U-VKArMkkEj-"
      },
      "source": [
        "Note that the above is a Series, we can use `reset_index` to get a dataframe"
      ]
    },
    {
      "cell_type": "code",
      "metadata": {
        "id": "fZwignoMkEj_"
      },
      "source": [
        "df.groupby('Season')['Wteam'].value_counts().reset_index(name=\"Number of Wins\")"
      ],
      "execution_count": null,
      "outputs": []
    },
    {
      "cell_type": "markdown",
      "metadata": {
        "id": "pHnhNVgnkEkA"
      },
      "source": [
        "We can also `rename` the variables using a dictionary."
      ]
    },
    {
      "cell_type": "code",
      "metadata": {
        "id": "PXzEywDHkEkA"
      },
      "source": [
        "df.groupby('Season')['Wteam'].value_counts().reset_index(name=\"Number of Wins\").rename(columns = {'Wteam':'Team', 'Season':'Year'})"
      ],
      "execution_count": null,
      "outputs": []
    },
    {
      "cell_type": "markdown",
      "metadata": {
        "id": "mTwp4CbvIQqx"
      },
      "source": [
        "Note that after grouping, the group becomes the index. So we can use `loc` function to find the top 2 high scores from 1985 to 1991."
      ]
    },
    {
      "cell_type": "code",
      "metadata": {
        "id": "Gv5JnKA0IQqx"
      },
      "source": [
        "df.groupby('Season')['Wscore'].nlargest(2).loc[1985:1991]"
      ],
      "execution_count": null,
      "outputs": []
    },
    {
      "cell_type": "code",
      "metadata": {
        "id": "GscjHnbPxlTX"
      },
      "source": [
        "df.groupby('Season')['Wscore'].nlargest(2).loc[1985:1991].reset_index()"
      ],
      "execution_count": null,
      "outputs": []
    },
    {
      "cell_type": "markdown",
      "metadata": {
        "id": "84O453AFIQqy"
      },
      "source": [
        "We can also write our own aggregate functions. Here, we want to find the percentage of games where the *loser* scored at least 80 points. \n",
        "\n",
        "The aggregate function takes a series as input, and returns a number as output. "
      ]
    },
    {
      "cell_type": "code",
      "metadata": {
        "id": "6HEGKAU0IQqz"
      },
      "source": [
        "def find_pct_games_gt_80(x):\n",
        "    return 100*sum(x > 80)/len(x)\n",
        "\n",
        "df.groupby('Season').Lscore.agg(find_pct_games_gt_80).loc[2010:2016]"
      ],
      "execution_count": null,
      "outputs": []
    },
    {
      "cell_type": "markdown",
      "metadata": {
        "id": "L4HhCBChIQq0"
      },
      "source": [
        "5.13% of losing team scored more than 80 points in 2010."
      ]
    },
    {
      "cell_type": "markdown",
      "metadata": {
        "id": "Z4frj7MYIQq1"
      },
      "source": [
        "We can apply the same agg function to multiple columns. It seems that 2016 is a high scoring season. "
      ]
    },
    {
      "cell_type": "code",
      "metadata": {
        "id": "qmqN5uWRIQq1"
      },
      "source": [
        "df.groupby('Season')[['Wscore', 'Lscore']].agg(find_pct_games_gt_80).loc[2010:2016]"
      ],
      "execution_count": null,
      "outputs": []
    },
    {
      "cell_type": "markdown",
      "metadata": {
        "id": "mT5BopxFkEkH"
      },
      "source": [
        "## Long-to-wide and Wide-to-long"
      ]
    },
    {
      "cell_type": "markdown",
      "metadata": {
        "id": "vrpZr953kEkI"
      },
      "source": [
        "Take the following dataframe as an example. For each season, there are two columns of values. Sometimes we want to transform this **wide** dataframe to a **long** dataframe (key-value pairs) using `melt()`."
      ]
    },
    {
      "cell_type": "code",
      "metadata": {
        "id": "C7CEVt7xkEkI"
      },
      "source": [
        "wide_df = df.groupby(['Wteam', 'Season'])[['Wscore', 'Lscore']].mean().head().reset_index()\n",
        "wide_df"
      ],
      "execution_count": null,
      "outputs": []
    },
    {
      "cell_type": "code",
      "metadata": {
        "id": "uZE6Ry84kEkK"
      },
      "source": [
        "long_df = pd.melt(wide_df, id_vars=['Wteam', 'Season'], value_vars=['Wscore', 'Lscore'], var_name = 'W/L', value_name = 'score')\n",
        "long_df"
      ],
      "execution_count": null,
      "outputs": []
    },
    {
      "cell_type": "markdown",
      "metadata": {
        "id": "eQfjd-zIkEkL"
      },
      "source": [
        "We can revert the operation and transform a long dataframe to a wide one using `pivot()`."
      ]
    },
    {
      "cell_type": "code",
      "metadata": {
        "id": "fY99NCUhkEkM"
      },
      "source": [
        "pd.pivot_table(long_df, index = ['Wteam', 'Season'], columns = 'W/L', values = 'score').reset_index()"
      ],
      "execution_count": null,
      "outputs": []
    },
    {
      "cell_type": "markdown",
      "metadata": {
        "id": "ilcUyGnPkEkN"
      },
      "source": [
        "## Merging dataframes"
      ]
    },
    {
      "cell_type": "markdown",
      "metadata": {
        "id": "fQcxyhUMkEkN"
      },
      "source": [
        "The above aggregated dataframe provides the summary of when a team is winning, its socre and opponent score by season. "
      ]
    },
    {
      "cell_type": "code",
      "metadata": {
        "id": "FQGNPpF4kEkO"
      },
      "source": [
        "winning_summary = df.groupby(['Wteam', 'Season'])[['Wscore', 'Lscore']].mean().reset_index()\n",
        "winning_summary"
      ],
      "execution_count": null,
      "outputs": []
    },
    {
      "cell_type": "markdown",
      "metadata": {
        "id": "AxAMvTGikEkP"
      },
      "source": [
        "Alternatively, we want to see how each team performs when it is losing"
      ]
    },
    {
      "cell_type": "code",
      "metadata": {
        "id": "fZfNmO4ZkEkP"
      },
      "source": [
        "losing_summary = df.groupby(['Lteam', 'Season'])[['Wscore', 'Lscore']].mean().reset_index()\n",
        "losing_summary"
      ],
      "execution_count": null,
      "outputs": []
    },
    {
      "cell_type": "markdown",
      "metadata": {
        "id": "jj7EG-0nkEkS"
      },
      "source": [
        "We want to merge the above two dataframes so we can compare each team's performance when they are losing vs winning.   \n",
        "There are multiple ways to merge in pandas. The way that is most similar to SQL and other langauge is\n",
        "\n",
        "`pd.merge(left, right, how='left', left_on=['lkey1', 'lkey2'], right_on=['rkey1', 'rkey2'], suffixes=('_left', '_right'))`"
      ]
    },
    {
      "cell_type": "code",
      "metadata": {
        "id": "N-WjB104kEkS"
      },
      "source": [
        "pd.merge(winning_summary, losing_summary, how='inner', left_on=['Wteam', 'Season'], right_on=['Lteam', 'Season'], \n",
        "         suffixes=('_when_winning', '_when_losing')).drop(columns='Lteam').rename(columns={\"Wteam\": \"teamID\"})"
      ],
      "execution_count": null,
      "outputs": []
    },
    {
      "cell_type": "markdown",
      "metadata": {
        "id": "L0Ad4jZ_kEkU"
      },
      "source": [
        "Note that the above method does not depend on Index (hence we use the `reset_index()`. By default `join` can be used to join dataframes using Index. "
      ]
    },
    {
      "cell_type": "code",
      "metadata": {
        "id": "obx5gkyKkEkU"
      },
      "source": [
        "losing_summary = df.groupby(['Lteam', 'Season'])[['Wscore', 'Lscore']].mean()\n",
        "winning_summary = df.groupby(['Wteam', 'Season'])[['Wscore', 'Lscore']].mean()"
      ],
      "execution_count": null,
      "outputs": []
    },
    {
      "cell_type": "code",
      "metadata": {
        "id": "jVaYwDLwkEkV"
      },
      "source": [
        "losing_summary"
      ],
      "execution_count": null,
      "outputs": []
    },
    {
      "cell_type": "code",
      "metadata": {
        "id": "o1mbgvg1Vbat"
      },
      "source": [
        "winning_summary"
      ],
      "execution_count": null,
      "outputs": []
    },
    {
      "cell_type": "code",
      "metadata": {
        "id": "REICU2x5kEkX"
      },
      "source": [
        "losing_summary.index.names =['team', 'Season']\n",
        "winning_summary.index.names =['team', 'Season']"
      ],
      "execution_count": null,
      "outputs": []
    },
    {
      "cell_type": "code",
      "metadata": {
        "id": "ajjkID9skEkZ"
      },
      "source": [
        "winning_summary.join(losing_summary, how='inner', lsuffix='_when_winning', rsuffix='_when_losing')"
      ],
      "execution_count": null,
      "outputs": []
    },
    {
      "cell_type": "markdown",
      "metadata": {
        "id": "PftZZZxkkEka"
      },
      "source": [
        "`merge` can also use index. Therefore, there is little reason for you to use `join`."
      ]
    },
    {
      "cell_type": "code",
      "metadata": {
        "id": "vuGlmU0VkEka"
      },
      "source": [
        "winning_summary.merge(losing_summary, how='inner', left_index=True, right_index=True, suffixes=('_when_winning', '_when_losing'))"
      ],
      "execution_count": null,
      "outputs": []
    }
  ]
}