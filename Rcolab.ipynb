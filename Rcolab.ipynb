{
  "nbformat": 4,
  "nbformat_minor": 0,
  "metadata": {
    "colab": {
      "name": "Untitled6.ipynb",
      "provenance": []
    },
    "kernelspec": {
      "name": "ir",
      "display_name": "R"
    },
    "language_info": {
      "name": "R"
    }
  },
  "cells": [
    {
      "cell_type": "code",
      "execution_count": 1,
      "metadata": {
        "id": "rtv5_an8A0fl"
      },
      "outputs": [],
      "source": [
        "data(cars)"
      ]
    },
    {
      "cell_type": "code",
      "source": [
        "plot(cars)"
      ],
      "metadata": {
        "colab": {
          "base_uri": "https://localhost:8080/",
          "height": 437
        },
        "id": "Z-MTrYnFA6kh",
        "outputId": "4e71a0c8-dbe7-4c49-b585-18a135b869d9"
      },
      "execution_count": 2,
      "outputs": [
        {
          "output_type": "display_data",
          "data": {
            "text/plain": [
              "plot without title"
            ],
            "image/png": "[encoded data removed]"
          },
          "metadata": {
            "image/png": {
              "width": 420,
              "height": 420
            }
          }
        }
      ]
    },
    {
      "cell_type": "code",
      "source": [
        "head(cars)"
      ],
      "metadata": {
        "colab": {
          "base_uri": "https://localhost:8080/",
          "height": 286
        },
        "id": "Da2WqfYXA79d",
        "outputId": "ebbfa95e-cf0f-4050-8e9e-a2a0bf8f2af8"
      },
      "execution_count": 3,
      "outputs": [
        {
          "output_type": "display_data",
          "data": {
            "text/html": [
              "<table class=\"dataframe\">\n",
              "<caption>A data.frame: 6 × 2</caption>\n",
              "<thead>\n",
              "\t<tr><th></th><th scope=col>speed</th><th scope=col>dist</th></tr>\n",
              "\t<tr><th></th><th scope=col>&lt;dbl&gt;</th><th scope=col>&lt;dbl&gt;</th></tr>\n",
              "</thead>\n",
              "<tbody>\n",
              "\t<tr><th scope=row>1</th><td>4</td><td> 2</td></tr>\n",
              "\t<tr><th scope=row>2</th><td>4</td><td>10</td></tr>\n",
              "\t<tr><th scope=row>3</th><td>7</td><td> 4</td></tr>\n",
              "\t<tr><th scope=row>4</th><td>7</td><td>22</td></tr>\n",
              "\t<tr><th scope=row>5</th><td>8</td><td>16</td></tr>\n",
              "\t<tr><th scope=row>6</th><td>9</td><td>10</td></tr>\n",
              "</tbody>\n",
              "</table>\n"
            ],
            "text/markdown": "\nA data.frame: 6 × 2\n\n| <!--/--> | speed &lt;dbl&gt; | dist &lt;dbl&gt; |\n|---|---|---|\n| 1 | 4 |  2 |\n| 2 | 4 | 10 |\n| 3 | 7 |  4 |\n| 4 | 7 | 22 |\n| 5 | 8 | 16 |\n| 6 | 9 | 10 |\n\n",
            "text/latex": "A data.frame: 6 × 2\n\\begin{tabular}{r|ll}\n  & speed & dist\\\\\n  & <dbl> & <dbl>\\\\\n\\hline\n\t1 & 4 &  2\\\\\n\t2 & 4 & 10\\\\\n\t3 & 7 &  4\\\\\n\t4 & 7 & 22\\\\\n\t5 & 8 & 16\\\\\n\t6 & 9 & 10\\\\\n\\end{tabular}\n",
            "text/plain": [
              "  speed dist\n",
              "1 4      2  \n",
              "2 4     10  \n",
              "3 7      4  \n",
              "4 7     22  \n",
              "5 8     16  \n",
              "6 9     10  "
            ]
          },
          "metadata": {}
        }
      ]
    },
    {
      "cell_type": "code",
      "source": [
        "lm(dist ~ speed, data = cars)"
      ],
      "metadata": {
        "colab": {
          "base_uri": "https://localhost:8080/",
          "height": 138
        },
        "id": "wMLwXsi0BCCg",
        "outputId": "d414faff-ecb5-425f-c0d3-3e9250afe3fc"
      },
      "execution_count": 5,
      "outputs": [
        {
          "output_type": "display_data",
          "data": {
            "text/plain": [
              "\n",
              "Call:\n",
              "lm(formula = dist ~ speed, data = cars)\n",
              "\n",
              "Coefficients:\n",
              "(Intercept)        speed  \n",
              "    -17.579        3.932  \n"
            ]
          },
          "metadata": {}
        }
      ]
    },
    {
      "cell_type": "code",
      "source": [
        "m =lm(dist ~ speed, data = cars)\n",
        "summary(m)"
      ],
      "metadata": {
        "colab": {
          "base_uri": "https://localhost:8080/",
          "height": 330
        },
        "id": "jtu_26ncBXCx",
        "outputId": "f44460d2-3117-4fff-f8a8-4a0920f80810"
      },
      "execution_count": 8,
      "outputs": [
        {
          "output_type": "display_data",
          "data": {
            "text/plain": [
              "\n",
              "Call:\n",
              "lm(formula = dist ~ speed, data = cars)\n",
              "\n",
              "Residuals:\n",
              "    Min      1Q  Median      3Q     Max \n",
              "-29.069  -9.525  -2.272   9.215  43.201 \n",
              "\n",
              "Coefficients:\n",
              "            Estimate Std. Error t value Pr(>|t|)    \n",
              "(Intercept) -17.5791     6.7584  -2.601   0.0123 *  \n",
              "speed         3.9324     0.4155   9.464 1.49e-12 ***\n",
              "---\n",
              "Signif. codes:  0 ‘***’ 0.001 ‘**’ 0.01 ‘*’ 0.05 ‘.’ 0.1 ‘ ’ 1\n",
              "\n",
              "Residual standard error: 15.38 on 48 degrees of freedom\n",
              "Multiple R-squared:  0.6511,\tAdjusted R-squared:  0.6438 \n",
              "F-statistic: 89.57 on 1 and 48 DF,  p-value: 1.49e-12\n"
            ]
          },
          "metadata": {}
        }
      ]
    },
    {
      "cell_type": "code",
      "source": [
        "library(MASS)"
      ],
      "metadata": {
        "id": "hXVvkOasBrM4"
      },
      "execution_count": 9,
      "outputs": []
    },
    {
      "cell_type": "code",
      "source": [
        "data(Boston)"
      ],
      "metadata": {
        "id": "Q6AuesOSBzOF"
      },
      "execution_count": 10,
      "outputs": []
    },
    {
      "cell_type": "code",
      "source": [
        "head(Boston)"
      ],
      "metadata": {
        "colab": {
          "base_uri": "https://localhost:8080/",
          "height": 286
        },
        "id": "EkfCes3hB4y_",
        "outputId": "5529c0e2-cf4a-4764-c7ad-7f3e096049d8"
      },
      "execution_count": 11,
      "outputs": [
        {
          "output_type": "display_data",
          "data": {
            "text/html": [
              "<table class=\"dataframe\">\n",
              "<caption>A data.frame: 6 × 14</caption>\n",
              "<thead>\n",
              "\t<tr><th></th><th scope=col>crim</th><th scope=col>zn</th><th scope=col>indus</th><th scope=col>chas</th><th scope=col>nox</th><th scope=col>rm</th><th scope=col>age</th><th scope=col>dis</th><th scope=col>rad</th><th scope=col>tax</th><th scope=col>ptratio</th><th scope=col>black</th><th scope=col>lstat</th><th scope=col>medv</th></tr>\n",
              "\t<tr><th></th><th scope=col>&lt;dbl&gt;</th><th scope=col>&lt;dbl&gt;</th><th scope=col>&lt;dbl&gt;</th><th scope=col>&lt;int&gt;</th><th scope=col>&lt;dbl&gt;</th><th scope=col>&lt;dbl&gt;</th><th scope=col>&lt;dbl&gt;</th><th scope=col>&lt;dbl&gt;</th><th scope=col>&lt;int&gt;</th><th scope=col>&lt;dbl&gt;</th><th scope=col>&lt;dbl&gt;</th><th scope=col>&lt;dbl&gt;</th><th scope=col>&lt;dbl&gt;</th><th scope=col>&lt;dbl&gt;</th></tr>\n",
              "</thead>\n",
              "<tbody>\n",
              "\t<tr><th scope=row>1</th><td>0.00632</td><td>18</td><td>2.31</td><td>0</td><td>0.538</td><td>6.575</td><td>65.2</td><td>4.0900</td><td>1</td><td>296</td><td>15.3</td><td>396.90</td><td>4.98</td><td>24.0</td></tr>\n",
              "\t<tr><th scope=row>2</th><td>0.02731</td><td> 0</td><td>7.07</td><td>0</td><td>0.469</td><td>6.421</td><td>78.9</td><td>4.9671</td><td>2</td><td>242</td><td>17.8</td><td>396.90</td><td>9.14</td><td>21.6</td></tr>\n",
              "\t<tr><th scope=row>3</th><td>0.02729</td><td> 0</td><td>7.07</td><td>0</td><td>0.469</td><td>7.185</td><td>61.1</td><td>4.9671</td><td>2</td><td>242</td><td>17.8</td><td>392.83</td><td>4.03</td><td>34.7</td></tr>\n",
              "\t<tr><th scope=row>4</th><td>0.03237</td><td> 0</td><td>2.18</td><td>0</td><td>0.458</td><td>6.998</td><td>45.8</td><td>6.0622</td><td>3</td><td>222</td><td>18.7</td><td>394.63</td><td>2.94</td><td>33.4</td></tr>\n",
              "\t<tr><th scope=row>5</th><td>0.06905</td><td> 0</td><td>2.18</td><td>0</td><td>0.458</td><td>7.147</td><td>54.2</td><td>6.0622</td><td>3</td><td>222</td><td>18.7</td><td>396.90</td><td>5.33</td><td>36.2</td></tr>\n",
              "\t<tr><th scope=row>6</th><td>0.02985</td><td> 0</td><td>2.18</td><td>0</td><td>0.458</td><td>6.430</td><td>58.7</td><td>6.0622</td><td>3</td><td>222</td><td>18.7</td><td>394.12</td><td>5.21</td><td>28.7</td></tr>\n",
              "</tbody>\n",
              "</table>\n"
            ],
            "text/markdown": "\nA data.frame: 6 × 14\n\n| <!--/--> | crim &lt;dbl&gt; | zn &lt;dbl&gt; | indus &lt;dbl&gt; | chas &lt;int&gt; | nox &lt;dbl&gt; | rm &lt;dbl&gt; | age &lt;dbl&gt; | dis &lt;dbl&gt; | rad &lt;int&gt; | tax &lt;dbl&gt; | ptratio &lt;dbl&gt; | black &lt;dbl&gt; | lstat &lt;dbl&gt; | medv &lt;dbl&gt; |\n|---|---|---|---|---|---|---|---|---|---|---|---|---|---|---|\n| 1 | 0.00632 | 18 | 2.31 | 0 | 0.538 | 6.575 | 65.2 | 4.0900 | 1 | 296 | 15.3 | 396.90 | 4.98 | 24.0 |\n| 2 | 0.02731 |  0 | 7.07 | 0 | 0.469 | 6.421 | 78.9 | 4.9671 | 2 | 242 | 17.8 | 396.90 | 9.14 | 21.6 |\n| 3 | 0.02729 |  0 | 7.07 | 0 | 0.469 | 7.185 | 61.1 | 4.9671 | 2 | 242 | 17.8 | 392.83 | 4.03 | 34.7 |\n| 4 | 0.03237 |  0 | 2.18 | 0 | 0.458 | 6.998 | 45.8 | 6.0622 | 3 | 222 | 18.7 | 394.63 | 2.94 | 33.4 |\n| 5 | 0.06905 |  0 | 2.18 | 0 | 0.458 | 7.147 | 54.2 | 6.0622 | 3 | 222 | 18.7 | 396.90 | 5.33 | 36.2 |\n| 6 | 0.02985 |  0 | 2.18 | 0 | 0.458 | 6.430 | 58.7 | 6.0622 | 3 | 222 | 18.7 | 394.12 | 5.21 | 28.7 |\n\n",
            "text/latex": "A data.frame: 6 × 14\n\\begin{tabular}{r|llllllllllllll}\n  & crim & zn & indus & chas & nox & rm & age & dis & rad & tax & ptratio & black & lstat & medv\\\\\n  & <dbl> & <dbl> & <dbl> & <int> & <dbl> & <dbl> & <dbl> & <dbl> & <int> & <dbl> & <dbl> & <dbl> & <dbl> & <dbl>\\\\\n\\hline\n\t1 & 0.00632 & 18 & 2.31 & 0 & 0.538 & 6.575 & 65.2 & 4.0900 & 1 & 296 & 15.3 & 396.90 & 4.98 & 24.0\\\\\n\t2 & 0.02731 &  0 & 7.07 & 0 & 0.469 & 6.421 & 78.9 & 4.9671 & 2 & 242 & 17.8 & 396.90 & 9.14 & 21.6\\\\\n\t3 & 0.02729 &  0 & 7.07 & 0 & 0.469 & 7.185 & 61.1 & 4.9671 & 2 & 242 & 17.8 & 392.83 & 4.03 & 34.7\\\\\n\t4 & 0.03237 &  0 & 2.18 & 0 & 0.458 & 6.998 & 45.8 & 6.0622 & 3 & 222 & 18.7 & 394.63 & 2.94 & 33.4\\\\\n\t5 & 0.06905 &  0 & 2.18 & 0 & 0.458 & 7.147 & 54.2 & 6.0622 & 3 & 222 & 18.7 & 396.90 & 5.33 & 36.2\\\\\n\t6 & 0.02985 &  0 & 2.18 & 0 & 0.458 & 6.430 & 58.7 & 6.0622 & 3 & 222 & 18.7 & 394.12 & 5.21 & 28.7\\\\\n\\end{tabular}\n",
            "text/plain": [
              "  crim    zn indus chas nox   rm    age  dis    rad tax ptratio black  lstat\n",
              "1 0.00632 18 2.31  0    0.538 6.575 65.2 4.0900 1   296 15.3    396.90 4.98 \n",
              "2 0.02731  0 7.07  0    0.469 6.421 78.9 4.9671 2   242 17.8    396.90 9.14 \n",
              "3 0.02729  0 7.07  0    0.469 7.185 61.1 4.9671 2   242 17.8    392.83 4.03 \n",
              "4 0.03237  0 2.18  0    0.458 6.998 45.8 6.0622 3   222 18.7    394.63 2.94 \n",
              "5 0.06905  0 2.18  0    0.458 7.147 54.2 6.0622 3   222 18.7    396.90 5.33 \n",
              "6 0.02985  0 2.18  0    0.458 6.430 58.7 6.0622 3   222 18.7    394.12 5.21 \n",
              "  medv\n",
              "1 24.0\n",
              "2 21.6\n",
              "3 34.7\n",
              "4 33.4\n",
              "5 36.2\n",
              "6 28.7"
            ]
          },
          "metadata": {}
        }
      ]
    },
    {
      "cell_type": "code",
      "source": [
        ""
      ],
      "metadata": {
        "id": "w28lFoDjEBCc"
      },
      "execution_count": null,
      "outputs": []
    },
    {
      "cell_type": "code",
      "source": [
        "m = lm(medv ~ .,data = Boston)\n",
        "summary(m)"
      ],
      "metadata": {
        "colab": {
          "base_uri": "https://localhost:8080/",
          "height": 538
        },
        "id": "0QbHGkX8B9II",
        "outputId": "cc6f887f-8398-494b-95ff-f4db21a40274"
      },
      "execution_count": 14,
      "outputs": [
        {
          "output_type": "display_data",
          "data": {
            "text/plain": [
              "\n",
              "Call:\n",
              "lm(formula = medv ~ ., data = Boston)\n",
              "\n",
              "Residuals:\n",
              "    Min      1Q  Median      3Q     Max \n",
              "-15.595  -2.730  -0.518   1.777  26.199 \n",
              "\n",
              "Coefficients:\n",
              "              Estimate Std. Error t value Pr(>|t|)    \n",
              "(Intercept)  3.646e+01  5.103e+00   7.144 3.28e-12 ***\n",
              "crim        -1.080e-01  3.286e-02  -3.287 0.001087 ** \n",
              "zn           4.642e-02  1.373e-02   3.382 0.000778 ***\n",
              "indus        2.056e-02  6.150e-02   0.334 0.738288    \n",
              "chas         2.687e+00  8.616e-01   3.118 0.001925 ** \n",
              "nox         -1.777e+01  3.820e+00  -4.651 4.25e-06 ***\n",
              "rm           3.810e+00  4.179e-01   9.116  < 2e-16 ***\n",
              "age          6.922e-04  1.321e-02   0.052 0.958229    \n",
              "dis         -1.476e+00  1.995e-01  -7.398 6.01e-13 ***\n",
              "rad          3.060e-01  6.635e-02   4.613 5.07e-06 ***\n",
              "tax         -1.233e-02  3.760e-03  -3.280 0.001112 ** \n",
              "ptratio     -9.527e-01  1.308e-01  -7.283 1.31e-12 ***\n",
              "black        9.312e-03  2.686e-03   3.467 0.000573 ***\n",
              "lstat       -5.248e-01  5.072e-02 -10.347  < 2e-16 ***\n",
              "---\n",
              "Signif. codes:  0 ‘***’ 0.001 ‘**’ 0.01 ‘*’ 0.05 ‘.’ 0.1 ‘ ’ 1\n",
              "\n",
              "Residual standard error: 4.745 on 492 degrees of freedom\n",
              "Multiple R-squared:  0.7406,\tAdjusted R-squared:  0.7338 \n",
              "F-statistic: 108.1 on 13 and 492 DF,  p-value: < 2.2e-16\n"
            ]
          },
          "metadata": {}
        }
      ]
    },
    {
      "cell_type": "code",
      "source": [
        "stepAIC(m, direction = 'backward')"
      ],
      "metadata": {
        "colab": {
          "base_uri": "https://localhost:8080/",
          "height": 1000
        },
        "id": "mRkE0F7DEHkb",
        "outputId": "2a56a71c-758f-4e87-e2d2-55dcdf5ac290"
      },
      "execution_count": 24,
      "outputs": [
        {
          "output_type": "stream",
          "name": "stdout",
          "text": [
            "Start:  AIC=1589.64\n",
            "medv ~ crim + zn + indus + chas + nox + rm + age + dis + rad + \n",
            "    tax + ptratio + black + lstat\n",
            "\n",
            "          Df Sum of Sq   RSS    AIC\n",
            "- age      1      0.06 11079 1587.7\n",
            "- indus    1      2.52 11081 1587.8\n",
            "<none>                 11079 1589.6\n",
            "- chas     1    218.97 11298 1597.5\n",
            "- tax      1    242.26 11321 1598.6\n",
            "- crim     1    243.22 11322 1598.6\n",
            "- zn       1    257.49 11336 1599.3\n",
            "- black    1    270.63 11349 1599.8\n",
            "- rad      1    479.15 11558 1609.1\n",
            "- nox      1    487.16 11566 1609.4\n",
            "- ptratio  1   1194.23 12273 1639.4\n",
            "- dis      1   1232.41 12311 1641.0\n",
            "- rm       1   1871.32 12950 1666.6\n",
            "- lstat    1   2410.84 13490 1687.3\n",
            "\n",
            "Step:  AIC=1587.65\n",
            "medv ~ crim + zn + indus + chas + nox + rm + dis + rad + tax + \n",
            "    ptratio + black + lstat\n",
            "\n",
            "          Df Sum of Sq   RSS    AIC\n",
            "- indus    1      2.52 11081 1585.8\n",
            "<none>                 11079 1587.7\n",
            "- chas     1    219.91 11299 1595.6\n",
            "- tax      1    242.24 11321 1596.6\n",
            "- crim     1    243.20 11322 1596.6\n",
            "- zn       1    260.32 11339 1597.4\n",
            "- black    1    272.26 11351 1597.9\n",
            "- rad      1    481.09 11560 1607.2\n",
            "- nox      1    520.87 11600 1608.9\n",
            "- ptratio  1   1200.23 12279 1637.7\n",
            "- dis      1   1352.26 12431 1643.9\n",
            "- rm       1   1959.55 13038 1668.0\n",
            "- lstat    1   2718.88 13798 1696.7\n",
            "\n",
            "Step:  AIC=1585.76\n",
            "medv ~ crim + zn + chas + nox + rm + dis + rad + tax + ptratio + \n",
            "    black + lstat\n",
            "\n",
            "          Df Sum of Sq   RSS    AIC\n",
            "<none>                 11081 1585.8\n",
            "- chas     1    227.21 11309 1594.0\n",
            "- crim     1    245.37 11327 1594.8\n",
            "- zn       1    257.82 11339 1595.4\n",
            "- black    1    270.82 11352 1596.0\n",
            "- tax      1    273.62 11355 1596.1\n",
            "- rad      1    500.92 11582 1606.1\n",
            "- nox      1    541.91 11623 1607.9\n",
            "- ptratio  1   1206.45 12288 1636.0\n",
            "- dis      1   1448.94 12530 1645.9\n",
            "- rm       1   1963.66 13045 1666.3\n",
            "- lstat    1   2723.48 13805 1695.0\n"
          ]
        },
        {
          "output_type": "display_data",
          "data": {
            "text/plain": [
              "\n",
              "Call:\n",
              "lm(formula = medv ~ crim + zn + chas + nox + rm + dis + rad + \n",
              "    tax + ptratio + black + lstat, data = Boston)\n",
              "\n",
              "Coefficients:\n",
              "(Intercept)         crim           zn         chas          nox           rm  \n",
              "  36.341145    -0.108413     0.045845     2.718716   -17.376023     3.801579  \n",
              "        dis          rad          tax      ptratio        black        lstat  \n",
              "  -1.492711     0.299608    -0.011778    -0.946525     0.009291    -0.522553  \n"
            ]
          },
          "metadata": {}
        }
      ]
    },
    {
      "cell_type": "code",
      "source": [
        "op=lm(medv ~ crim + zn + indus + chas + nox + rm + dis + rad + tax + \n",
        "    ptratio + black + lstat, data=Boston)"
      ],
      "metadata": {
        "id": "Zx904rK8DTrD"
      },
      "execution_count": 26,
      "outputs": []
    },
    {
      "cell_type": "code",
      "source": [
        ""
      ],
      "metadata": {
        "id": "AwpMALx3DVLq"
      },
      "execution_count": null,
      "outputs": []
    },
    {
      "cell_type": "code",
      "source": [
        "install.packages('stargazer')\n",
        "library(stargazer)"
      ],
      "metadata": {
        "colab": {
          "base_uri": "https://localhost:8080/"
        },
        "id": "Osr-WUZWCl8L",
        "outputId": "e4ab7c63-c38a-410d-fc79-6571f94f03f6"
      },
      "execution_count": 16,
      "outputs": [
        {
          "output_type": "stream",
          "name": "stderr",
          "text": [
            "Installing package into ‘/usr/local/lib/R/site-library’\n",
            "(as ‘lib’ is unspecified)\n",
            "\n",
            "\n",
            "Please cite as: \n",
            "\n",
            "\n",
            " Hlavac, Marek (2022). stargazer: Well-Formatted Regression and Summary Statistics Tables.\n",
            "\n",
            " R package version 5.2.3. https://CRAN.R-project.org/package=stargazer \n",
            "\n",
            "\n"
          ]
        }
      ]
    },
    {
      "cell_type": "code",
      "source": [
        "stargazer(m,type ='text',no.space = TRUE,single.row = TRUE)"
      ],
      "metadata": {
        "colab": {
          "base_uri": "https://localhost:8080/"
        },
        "id": "JJbLBIejCz8y",
        "outputId": "f09e15dc-8b7f-4698-b95e-2024a58a0a35"
      },
      "execution_count": 18,
      "outputs": [
        {
          "output_type": "stream",
          "name": "stdout",
          "text": [
            "\n",
            "===============================================\n",
            "                        Dependent variable:    \n",
            "                    ---------------------------\n",
            "                               medv            \n",
            "-----------------------------------------------\n",
            "crim                     -0.108*** (0.033)     \n",
            "zn                       0.046*** (0.014)      \n",
            "indus                      0.021 (0.061)       \n",
            "chas                     2.687*** (0.862)      \n",
            "nox                     -17.767*** (3.820)     \n",
            "rm                       3.810*** (0.418)      \n",
            "age                        0.001 (0.013)       \n",
            "dis                      -1.476*** (0.199)     \n",
            "rad                      0.306*** (0.066)      \n",
            "tax                      -0.012*** (0.004)     \n",
            "ptratio                  -0.953*** (0.131)     \n",
            "black                    0.009*** (0.003)      \n",
            "lstat                    -0.525*** (0.051)     \n",
            "Constant                 36.459*** (5.103)     \n",
            "-----------------------------------------------\n",
            "Observations                    506            \n",
            "R2                             0.741           \n",
            "Adjusted R2                    0.734           \n",
            "Residual Std. Error      4.745 (df = 492)      \n",
            "F Statistic          108.077*** (df = 13; 492) \n",
            "===============================================\n",
            "Note:               *p<0.1; **p<0.05; ***p<0.01\n"
          ]
        }
      ]
    },
    {
      "cell_type": "code",
      "source": [
        "no = lm(medv ~ rm + zn,data = Boston)\n",
        "summary(no)"
      ],
      "metadata": {
        "colab": {
          "base_uri": "https://localhost:8080/",
          "height": 346
        },
        "id": "Aw4EY-ioDWJ7",
        "outputId": "e9188d00-6c57-4442-81d2-2189df1f1be5"
      },
      "execution_count": 19,
      "outputs": [
        {
          "output_type": "display_data",
          "data": {
            "text/plain": [
              "\n",
              "Call:\n",
              "lm(formula = medv ~ rm + zn, data = Boston)\n",
              "\n",
              "Residuals:\n",
              "    Min      1Q  Median      3Q     Max \n",
              "-21.013  -3.199   0.187   2.680  39.292 \n",
              "\n",
              "Coefficients:\n",
              "             Estimate Std. Error t value Pr(>|t|)    \n",
              "(Intercept) -31.30283    2.68563 -11.656  < 2e-16 ***\n",
              "rm            8.45288    0.43162  19.584  < 2e-16 ***\n",
              "zn            0.06269    0.01300   4.821 1.89e-06 ***\n",
              "---\n",
              "Signif. codes:  0 ‘***’ 0.001 ‘**’ 0.01 ‘*’ 0.05 ‘.’ 0.1 ‘ ’ 1\n",
              "\n",
              "Residual standard error: 6.475 on 503 degrees of freedom\n",
              "Multiple R-squared:  0.5063,\tAdjusted R-squared:  0.5044 \n",
              "F-statistic:   258 on 2 and 503 DF,  p-value: < 2.2e-16\n"
            ]
          },
          "metadata": {}
        }
      ]
    },
    {
      "cell_type": "code",
      "source": [
        "stargazer(m,no,op,type ='text',no.space = TRUE,single.row = TRUE, out ='table.html')"
      ],
      "metadata": {
        "colab": {
          "base_uri": "https://localhost:8080/"
        },
        "id": "-0QrfVVnDrn2",
        "outputId": "db6bbaa2-10f2-4638-f063-b34273129cec"
      },
      "execution_count": 27,
      "outputs": [
        {
          "output_type": "stream",
          "name": "stdout",
          "text": [
            "\n",
            "================================================================================================\n",
            "                                                Dependent variable:                             \n",
            "                    ----------------------------------------------------------------------------\n",
            "                                                        medv                                    \n",
            "                               (1)                      (2)                       (3)           \n",
            "------------------------------------------------------------------------------------------------\n",
            "crim                    -0.108*** (0.033)                                  -0.108*** (0.033)    \n",
            "zn                      0.046*** (0.014)          0.063*** (0.013)         0.046*** (0.014)     \n",
            "indus                     0.021 (0.061)                                      0.021 (0.061)      \n",
            "chas                    2.687*** (0.862)                                   2.689*** (0.860)     \n",
            "nox                    -17.767*** (3.820)                                 -17.714*** (3.679)    \n",
            "rm                      3.810*** (0.418)          8.453*** (0.432)         3.814*** (0.408)     \n",
            "age                       0.001 (0.013)                                                         \n",
            "dis                     -1.476*** (0.199)                                  -1.479*** (0.191)    \n",
            "rad                     0.306*** (0.066)                                   0.306*** (0.066)     \n",
            "tax                     -0.012*** (0.004)                                  -0.012*** (0.004)    \n",
            "ptratio                 -0.953*** (0.131)                                  -0.952*** (0.130)    \n",
            "black                   0.009*** (0.003)                                   0.009*** (0.003)     \n",
            "lstat                   -0.525*** (0.051)                                  -0.524*** (0.048)    \n",
            "Constant                36.459*** (5.103)        -31.303*** (2.686)        36.437*** (5.080)    \n",
            "------------------------------------------------------------------------------------------------\n",
            "Observations                   506                      506                       506           \n",
            "R2                            0.741                    0.506                     0.741          \n",
            "Adjusted R2                   0.734                    0.504                     0.734          \n",
            "Residual Std. Error     4.745 (df = 492)          6.475 (df = 503)         4.740 (df = 493)     \n",
            "F Statistic         108.077*** (df = 13; 492) 257.958*** (df = 2; 503) 117.320*** (df = 12; 493)\n",
            "================================================================================================\n",
            "Note:                                                                *p<0.1; **p<0.05; ***p<0.01\n"
          ]
        }
      ]
    }
  ]
}